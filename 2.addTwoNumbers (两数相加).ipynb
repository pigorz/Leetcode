{
 "cells": [
  {
   "cell_type": "code",
   "execution_count": 8,
   "metadata": {
    "collapsed": true
   },
   "outputs": [],
   "source": [
    "class ListNode:\n",
    "    def __init__(self, x):\n",
    "        self.val = x\n",
    "        self.next = None\n"
   ]
  },
  {
   "cell_type": "code",
   "execution_count": 10,
   "metadata": {},
   "outputs": [],
   "source": [
    "# l1 = 2->4->3\n",
    "l1 = ListNode(3)\n",
    "for i in [4,2]:\n",
    "    a = ListNode(i)\n",
    "    a.next = l1\n",
    "    l1 = a"
   ]
  },
  {
   "cell_type": "code",
   "execution_count": 11,
   "metadata": {
    "collapsed": true
   },
   "outputs": [],
   "source": [
    "# l2 = 4->6->5\n",
    "l2 = ListNode(5)\n",
    "for i in [6,4]:\n",
    "    a = ListNode(i)\n",
    "    a.next = l2\n",
    "    l2 = a"
   ]
  },
  {
   "cell_type": "code",
   "execution_count": 34,
   "metadata": {
    "collapsed": true
   },
   "outputs": [],
   "source": [
    "#方法一"
   ]
  },
  {
   "cell_type": "code",
   "execution_count": 35,
   "metadata": {
    "collapsed": true
   },
   "outputs": [],
   "source": [
    "# 148ms，13.6MB\n",
    "def addTwoNumbers(l1,l2):\n",
    "    a = 0\n",
    "    b = 0\n",
    "    i = 0\n",
    "    while(1):\n",
    "        if l1 != None:\n",
    "            a0 = l1.val*10**i\n",
    "            a = a + a0\n",
    "            l1 = l1.next\n",
    "        if l2 != None:\n",
    "            b0 = l2.val*10**i\n",
    "            b = b + b0\n",
    "            l2 = l2.next\n",
    "        i = i + 1\n",
    "        if l1 == None and l2 == None:\n",
    "            break\n",
    "    c = str(a + b)\n",
    "    result = []\n",
    "    for i in range(len(c)):\n",
    "        result.append(ListNode(int(c[i])))\n",
    "    for i in range(len(c)-1):\n",
    "        result[i+1].next = result[i]\n",
    "    print(result)\n",
    "    return(result[-1])"
   ]
  },
  {
   "cell_type": "code",
   "execution_count": null,
   "metadata": {
    "collapsed": true
   },
   "outputs": [],
   "source": [
    "# 方法二"
   ]
  },
  {
   "cell_type": "code",
   "execution_count": null,
   "metadata": {
    "collapsed": true
   },
   "outputs": [],
   "source": [
    "def addTwoNumbers(l1,l2):\n",
    "    result = ListNode(0)\n",
    "    r = result\n",
    "    carry = 0\n",
    "    while(l1 or l2):\n",
    "        a = l1.val if l1 else 0\n",
    "        b = l2.val if l2 else 0\n",
    "        c = a + b + carry\n",
    "        carry = c//10\n",
    "        c = c % 10\n",
    "        r.next = ListNode(c)\n",
    "        r = r.next\n",
    "        if l1 != None: l1 = l1.next\n",
    "        if l2 != None: l2 = l2.next\n",
    "    if carry == 1:\n",
    "        r.next = ListNode(1)\n",
    "    return(result.next)"
   ]
  }
 ],
 "metadata": {
  "kernelspec": {
   "display_name": "Python 3",
   "language": "python",
   "name": "python3"
  },
  "language_info": {
   "codemirror_mode": {
    "name": "ipython",
    "version": 3
   },
   "file_extension": ".py",
   "mimetype": "text/x-python",
   "name": "python",
   "nbconvert_exporter": "python",
   "pygments_lexer": "ipython3",
   "version": "3.6.2"
  }
 },
 "nbformat": 4,
 "nbformat_minor": 2
}
