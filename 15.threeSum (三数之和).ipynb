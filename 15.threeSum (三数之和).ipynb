{
 "cells": [
  {
   "cell_type": "code",
   "execution_count": 98,
   "metadata": {
    "collapsed": true
   },
   "outputs": [],
   "source": [
    "nums = [0, 0, 1, 2, -1, -4]"
   ]
  },
  {
   "cell_type": "code",
   "execution_count": 90,
   "metadata": {},
   "outputs": [
    {
     "name": "stdout",
     "output_type": "stream",
     "text": [
      "[-1, 0, 1]\n",
      "[-1, -1, 2]\n",
      "[-1, 0, 1]\n",
      "[-1, 0, 1]\n"
     ]
    }
   ],
   "source": [
    "# 超出时间限制\n",
    "results = []\n",
    "for i in range(len(nums)-2):\n",
    "    for j in range(i+1,len(nums)-1):\n",
    "        dif = -nums[i] - nums[j]\n",
    "        dic = {}\n",
    "        for n in range(j+1,len(nums)+1):\n",
    "            if dif in dic:\n",
    "                result = [nums[i],nums[j],nums[dic[dif]]]\n",
    "                result.sort()\n",
    "                print(result)\n",
    "                if result not in results:\n",
    "                    #print(results)\n",
    "                    results.append(result)\n",
    "                    break\n",
    "            if n == len(nums):\n",
    "                break\n",
    "            dic[nums[n]] = n"
   ]
  },
  {
   "cell_type": "code",
   "execution_count": null,
   "metadata": {
    "collapsed": true
   },
   "outputs": [],
   "source": []
  },
  {
   "cell_type": "code",
   "execution_count": 92,
   "metadata": {},
   "outputs": [
    {
     "name": "stdout",
     "output_type": "stream",
     "text": [
      "[0, 0, 0]\n"
     ]
    }
   ],
   "source": [
    "# 超出时间限制\n",
    "results = []\n",
    "for i in range(len(nums)-2):\n",
    "    dic = {}\n",
    "    for j in range(i+1,len(nums)):\n",
    "        dif = -nums[i] - nums[j]\n",
    "        if dif in dic:\n",
    "            result = [nums[i],nums[j],dif]\n",
    "            result.sort()\n",
    "            print(result)\n",
    "            if result not in results:\n",
    "                #print(results)\n",
    "                results.append(result)\n",
    "        dic[nums[j]] = j"
   ]
  },
  {
   "cell_type": "code",
   "execution_count": 93,
   "metadata": {},
   "outputs": [
    {
     "data": {
      "text/plain": [
       "[[0, 0, 0]]"
      ]
     },
     "execution_count": 93,
     "metadata": {},
     "output_type": "execute_result"
    }
   ],
   "source": [
    "results"
   ]
  },
  {
   "cell_type": "code",
   "execution_count": 161,
   "metadata": {
    "collapsed": true
   },
   "outputs": [],
   "source": [
    "nums = [0,0,0]"
   ]
  },
  {
   "cell_type": "code",
   "execution_count": 175,
   "metadata": {},
   "outputs": [],
   "source": [
    "# 超出时间限制\n",
    "def threeSum(nums):\n",
    "    results = []\n",
    "    if nums == [] or len(nums)<3:\n",
    "        return results\n",
    "    nums.sort()\n",
    "    for i in range(len(nums)-2):\n",
    "        if nums[i] > 0:\n",
    "            return results\n",
    "        if i > 0 and nums[i] == nums[i-1]:\n",
    "            continue\n",
    "        first = i + 1\n",
    "        last = len(nums) - 1\n",
    "        while(1):\n",
    "            if nums[first] + nums[last] > -nums[i]:\n",
    "                last = last - 1\n",
    "            elif nums[first] + nums[last] < -nums[i]:\n",
    "                first = first + 1\n",
    "            else:\n",
    "                while(first<last and nums[first] == nums[first+1]):\n",
    "                    first = first + 1\n",
    "                while(first<last and nums[last] == nums[last-1]):\n",
    "                    last = last - 1\n",
    "                results.append([nums[i],nums[first],nums[last]])\n",
    "                last = last - 1\n",
    "                first = first + 1\n",
    "            if first >= last or nums[first] > -nums[i]//2 or nums[last] < -nums[i]//2:\n",
    "                break  \n",
    "    return results"
   ]
  },
  {
   "cell_type": "code",
   "execution_count": 176,
   "metadata": {},
   "outputs": [
    {
     "data": {
      "text/plain": [
       "[[0, 0, 0]]"
      ]
     },
     "execution_count": 176,
     "metadata": {},
     "output_type": "execute_result"
    }
   ],
   "source": [
    "threeSum(nums)"
   ]
  },
  {
   "cell_type": "code",
   "execution_count": 157,
   "metadata": {},
   "outputs": [],
   "source": [
    "# 双指针法。1280 ms\n",
    "def threeSum(nums):\n",
    "    n=len(nums)\n",
    "    res=[]\n",
    "    if(not nums or n<3):\n",
    "        return []\n",
    "    nums.sort()\n",
    "    res=[]\n",
    "    for i in range(n):\n",
    "        print(i)\n",
    "        if(nums[i]>0):\n",
    "            return res\n",
    "        if(i>0 and nums[i]==nums[i-1]):\n",
    "            continue\n",
    "        L=i+1\n",
    "        R=n-1\n",
    "        while(L<R):\n",
    "            if(nums[i]+nums[L]+nums[R]==0):\n",
    "                res.append([nums[i],nums[L],nums[R]])\n",
    "                while(L<R and nums[L]==nums[L+1]):\n",
    "                    L=L+1\n",
    "                while(L<R and nums[R]==nums[R-1]):\n",
    "                    R=R-1\n",
    "                L=L+1\n",
    "                R=R-1\n",
    "            elif(nums[i]+nums[L]+nums[R]>0):\n",
    "                R=R-1\n",
    "            else:\n",
    "                L=L+1\n",
    "    print(j)\n",
    "    return res"
   ]
  },
  {
   "cell_type": "code",
   "execution_count": 178,
   "metadata": {},
   "outputs": [
    {
     "data": {
      "text/plain": [
       "[[0, 0, 0]]"
      ]
     },
     "execution_count": 178,
     "metadata": {},
     "output_type": "execute_result"
    }
   ],
   "source": [
    "threeSum(nums)"
   ]
  }
 ],
 "metadata": {
  "kernelspec": {
   "display_name": "Python 3",
   "language": "python",
   "name": "python3"
  },
  "language_info": {
   "codemirror_mode": {
    "name": "ipython",
    "version": 3
   },
   "file_extension": ".py",
   "mimetype": "text/x-python",
   "name": "python",
   "nbconvert_exporter": "python",
   "pygments_lexer": "ipython3",
   "version": "3.6.2"
  }
 },
 "nbformat": 4,
 "nbformat_minor": 2
}
