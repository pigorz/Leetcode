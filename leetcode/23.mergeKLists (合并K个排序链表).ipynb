{
 "cells": [
  {
   "cell_type": "code",
   "execution_count": 1,
   "metadata": {
    "collapsed": true
   },
   "outputs": [],
   "source": [
    "class ListNode:\n",
    "    def __init__(self, x):\n",
    "        self.val = x\n",
    "        self.next = None"
   ]
  },
  {
   "cell_type": "code",
   "execution_count": 4,
   "metadata": {
    "collapsed": true
   },
   "outputs": [],
   "source": [
    "# l1 = 1->4->5\n",
    "l1 = ListNode(5)\n",
    "for i in [4,1]:\n",
    "    a = ListNode(i)\n",
    "    a.next = l1\n",
    "    l1 = a"
   ]
  },
  {
   "cell_type": "code",
   "execution_count": 5,
   "metadata": {
    "collapsed": true
   },
   "outputs": [],
   "source": [
    "# l2 = 1->3->4\n",
    "l2 = ListNode(4)\n",
    "for i in [3,1]:\n",
    "    a = ListNode(i)\n",
    "    a.next = l2\n",
    "    l2 = a"
   ]
  },
  {
   "cell_type": "code",
   "execution_count": 6,
   "metadata": {
    "collapsed": true
   },
   "outputs": [],
   "source": [
    "# l3 = 2->6\n",
    "l3 = ListNode(6)\n",
    "for i in [2]:\n",
    "    a = ListNode(i)\n",
    "    a.next = l3\n",
    "    l3 = a"
   ]
  },
  {
   "cell_type": "code",
   "execution_count": 9,
   "metadata": {
    "collapsed": true
   },
   "outputs": [],
   "source": [
    "lists = [l1,l2,l3]"
   ]
  },
  {
   "cell_type": "code",
   "execution_count": 10,
   "metadata": {},
   "outputs": [],
   "source": [
    "# 72ms\n",
    "def mergeKLists(lists):\n",
    "    lists = [i for i in lists if i]\n",
    "    if lists == []:\n",
    "        return None\n",
    "    list_c = []\n",
    "    for listNode in lists:\n",
    "        if not listNode:\n",
    "            continue\n",
    "        while(1):\n",
    "            list_c.append(listNode.val)\n",
    "            if listNode.next == None:\n",
    "                break\n",
    "            listNode = listNode.next\n",
    "    list_c.sort()\n",
    "    res = ListNode(0)\n",
    "    res_p = res\n",
    "    for n in list_c:\n",
    "        res_p.next = ListNode(n)\n",
    "        res_p = res_p.next\n",
    "    return res.next"
   ]
  },
  {
   "cell_type": "code",
   "execution_count": 11,
   "metadata": {},
   "outputs": [
    {
     "data": {
      "text/plain": [
       "<__main__.ListNode at 0x25be0bb10b8>"
      ]
     },
     "execution_count": 11,
     "metadata": {},
     "output_type": "execute_result"
    }
   ],
   "source": [
    "mergeKLists(lists)"
   ]
  }
 ],
 "metadata": {
  "kernelspec": {
   "display_name": "Python 3",
   "language": "python",
   "name": "python3"
  },
  "language_info": {
   "codemirror_mode": {
    "name": "ipython",
    "version": 3
   },
   "file_extension": ".py",
   "mimetype": "text/x-python",
   "name": "python",
   "nbconvert_exporter": "python",
   "pygments_lexer": "ipython3",
   "version": "3.6.2"
  }
 },
 "nbformat": 4,
 "nbformat_minor": 2
}
