{
 "cells": [
  {
   "cell_type": "code",
   "execution_count": 51,
   "metadata": {},
   "outputs": [],
   "source": [
    "nums = [4,5,6,7,8,1,2,3]\n",
    "target = 8"
   ]
  },
  {
   "cell_type": "code",
   "execution_count": 7,
   "metadata": {
    "collapsed": true
   },
   "outputs": [],
   "source": [
    "def search(nums,target):\n",
    "    if target not in nums:\n",
    "        return -1\n",
    "    return nums.index(target)"
   ]
  },
  {
   "cell_type": "code",
   "execution_count": 8,
   "metadata": {},
   "outputs": [
    {
     "data": {
      "text/plain": [
       "4"
      ]
     },
     "execution_count": 8,
     "metadata": {},
     "output_type": "execute_result"
    }
   ],
   "source": [
    "search(nums,target)"
   ]
  },
  {
   "cell_type": "code",
   "execution_count": 52,
   "metadata": {},
   "outputs": [],
   "source": [
    "def search(nums,target):\n",
    "    if nums == []:\n",
    "        return -1\n",
    "    left,right = 0,len(nums)-1\n",
    "    while (left < right):\n",
    "        mid = (right+left)//2\n",
    "        if nums[left] == target:\n",
    "            return left\n",
    "        elif nums[right] == target:\n",
    "            return right\n",
    "        elif nums[mid] == target:\n",
    "            return mid\n",
    "        elif ((nums[left] > target) and (nums[left] > nums[right])) or ((nums[mid] < target) and (nums[left] < nums[right])):\n",
    "            left = mid + 1\n",
    "        else:\n",
    "            right = mid\n",
    "        print(left)\n",
    "    return left if nums[left] == target else -1"
   ]
  },
  {
   "cell_type": "code",
   "execution_count": 53,
   "metadata": {},
   "outputs": [
    {
     "name": "stdout",
     "output_type": "stream",
     "text": [
      "0\n",
      "2\n",
      "3\n"
     ]
    },
    {
     "data": {
      "text/plain": [
       "-1"
      ]
     },
     "execution_count": 53,
     "metadata": {},
     "output_type": "execute_result"
    }
   ],
   "source": [
    "search(nums,target)"
   ]
  },
  {
   "cell_type": "code",
   "execution_count": null,
   "metadata": {
    "collapsed": true
   },
   "outputs": [],
   "source": []
  }
 ],
 "metadata": {
  "kernelspec": {
   "display_name": "Python 3",
   "language": "python",
   "name": "python3"
  },
  "language_info": {
   "codemirror_mode": {
    "name": "ipython",
    "version": 3
   },
   "file_extension": ".py",
   "mimetype": "text/x-python",
   "name": "python",
   "nbconvert_exporter": "python",
   "pygments_lexer": "ipython3",
   "version": "3.6.2"
  }
 },
 "nbformat": 4,
 "nbformat_minor": 2
}
