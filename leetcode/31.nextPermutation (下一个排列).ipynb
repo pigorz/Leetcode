{
 "cells": [
  {
   "cell_type": "code",
   "execution_count": 242,
   "metadata": {
    "collapsed": true
   },
   "outputs": [],
   "source": []
  },
  {
   "cell_type": "code",
   "execution_count": 211,
   "metadata": {},
   "outputs": [],
   "source": [
    "# 执行用时 :36 ms, 在所有 Python3 提交中击败了90.94%的用户\n",
    "nums = [1,2,3]\n",
    "def nextPermutation(nums):\n",
    "    for i in range(len(nums)-1):\n",
    "        nums_copy = nums[-1-i:]\n",
    "        nums_copy.sort()\n",
    "        for a in nums_copy:\n",
    "            if a > nums[-1-(i+1)]:\n",
    "                c = nums[-1-(i+1)]\n",
    "                nums[-1-(i+1)] = a\n",
    "                nums_copy.remove(a)\n",
    "                c = nums_copy + [c]\n",
    "                c.sort()\n",
    "                nums[-1-(len(c)-1):] = c\n",
    "                return\n",
    "    nums.sort()\n",
    "    return\n",
    "nextPermutation(nums)\n",
    "nums"
   ]
  },
  {
   "cell_type": "code",
   "execution_count": 246,
   "metadata": {
    "collapsed": true
   },
   "outputs": [],
   "source": []
  },
  {
   "cell_type": "code",
   "execution_count": 250,
   "metadata": {
    "collapsed": true
   },
   "outputs": [],
   "source": [
    "# 执行用时 :60 ms, 在所有 Python3 提交中击败了18.25%的用户\n",
    "nums = [1,2,3]\n",
    "def nextPermutation(nums):\n",
    "    for i in range(len(nums)-1):\n",
    "        aa = sorted(nums[-1-i:])\n",
    "        for a in aa:\n",
    "            if a > nums[-1-(i+1)]:\n",
    "                aa.remove(a)\n",
    "                nums[-1-(i+1)],nums[-1-i:] = a,sorted(aa+[nums[-1-(i+1)]])\n",
    "                return\n",
    "    nums.sort()\n",
    "    return\n",
    "nextPermutation(nums)\n",
    "nums"
   ]
  }
 ],
 "metadata": {
  "kernelspec": {
   "display_name": "Python 3",
   "language": "python",
   "name": "python3"
  },
  "language_info": {
   "codemirror_mode": {
    "name": "ipython",
    "version": 3
   },
   "file_extension": ".py",
   "mimetype": "text/x-python",
   "name": "python",
   "nbconvert_exporter": "python",
   "pygments_lexer": "ipython3",
   "version": "3.6.2"
  }
 },
 "nbformat": 4,
 "nbformat_minor": 2
}
