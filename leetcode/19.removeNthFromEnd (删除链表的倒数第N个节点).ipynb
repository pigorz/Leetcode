{
 "cells": [
  {
   "cell_type": "code",
   "execution_count": 20,
   "metadata": {
    "collapsed": true
   },
   "outputs": [],
   "source": [
    "class ListNode:\n",
    "    def __init__(self, x):\n",
    "        self.val = x\n",
    "        self.next = None"
   ]
  },
  {
   "cell_type": "code",
   "execution_count": 104,
   "metadata": {},
   "outputs": [],
   "source": [
    "# head = 1->2->3->4->5\n",
    "head = ListNode(5)\n",
    "for i in [4,3,2,1]:\n",
    "    a = ListNode(i)\n",
    "    a.next = head\n",
    "    head = a"
   ]
  },
  {
   "cell_type": "code",
   "execution_count": 84,
   "metadata": {},
   "outputs": [],
   "source": [
    "# 72 ms\n",
    "def removeNthFromEnd(head,n):\n",
    "    res = []\n",
    "    while(1):\n",
    "        res.append(head.val)\n",
    "        if head.next == None:\n",
    "            break\n",
    "        head = head.next\n",
    "    del res[-n]\n",
    "    if res == []:\n",
    "        return None\n",
    "    res.reverse()\n",
    "    res1 = ListNode(res[0])\n",
    "    for i in range(1,len(res)):\n",
    "        a = ListNode(res[i])\n",
    "        a.next = res1\n",
    "        res1 = a\n",
    "    return res1"
   ]
  },
  {
   "cell_type": "code",
   "execution_count": 85,
   "metadata": {},
   "outputs": [
    {
     "data": {
      "text/plain": [
       "<__main__.ListNode at 0x25c800154e0>"
      ]
     },
     "execution_count": 85,
     "metadata": {},
     "output_type": "execute_result"
    }
   ],
   "source": [
    "n = 2\n",
    "removeNthFromEnd(head,n)"
   ]
  },
  {
   "cell_type": "code",
   "execution_count": 105,
   "metadata": {},
   "outputs": [],
   "source": [
    "# 52 ms\n",
    "def removeNthFromEnd(head,n):\n",
    "    head1 = ListNode(0)\n",
    "    head1.next = head\n",
    "    print(head1.val)\n",
    "    cur = head1\n",
    "    l = 0\n",
    "    while(cur.next != None):\n",
    "        l = l + 1\n",
    "        cur = cur.next\n",
    "    \n",
    "    cur = head1\n",
    "    l = l - n\n",
    "    print(head1.val)\n",
    "    while(l):\n",
    "        print(cur.val)\n",
    "        cur = cur.next\n",
    "        l = l - 1\n",
    "    cur.next = cur.next.next\n",
    "    return head1.next"
   ]
  },
  {
   "cell_type": "code",
   "execution_count": 106,
   "metadata": {},
   "outputs": [
    {
     "name": "stdout",
     "output_type": "stream",
     "text": [
      "0\n",
      "0\n",
      "0\n",
      "1\n",
      "2\n"
     ]
    },
    {
     "data": {
      "text/plain": [
       "<__main__.ListNode at 0x25c80001b70>"
      ]
     },
     "execution_count": 106,
     "metadata": {},
     "output_type": "execute_result"
    }
   ],
   "source": [
    "n = 2\n",
    "removeNthFromEnd(head,n)"
   ]
  },
  {
   "cell_type": "code",
   "execution_count": null,
   "metadata": {
    "collapsed": true
   },
   "outputs": [],
   "source": []
  }
 ],
 "metadata": {
  "kernelspec": {
   "display_name": "Python 3",
   "language": "python",
   "name": "python3"
  },
  "language_info": {
   "codemirror_mode": {
    "name": "ipython",
    "version": 3
   },
   "file_extension": ".py",
   "mimetype": "text/x-python",
   "name": "python",
   "nbconvert_exporter": "python",
   "pygments_lexer": "ipython3",
   "version": "3.6.2"
  }
 },
 "nbformat": 4,
 "nbformat_minor": 2
}
