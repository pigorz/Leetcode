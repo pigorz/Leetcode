{
 "cells": [
  {
   "cell_type": "code",
   "execution_count": 24,
   "metadata": {
    "collapsed": true
   },
   "outputs": [],
   "source": [
    "class ListNode:\n",
    "    def __init__(self, x):\n",
    "        self.val = x\n",
    "        self.next = None"
   ]
  },
  {
   "cell_type": "code",
   "execution_count": 31,
   "metadata": {
    "collapsed": true
   },
   "outputs": [],
   "source": [
    "# l1 = 1->2->4\n",
    "l1 = ListNode(4)\n",
    "for i in [2,1]:\n",
    "    a = ListNode(i)\n",
    "    a.next = l1\n",
    "    l1 = a"
   ]
  },
  {
   "cell_type": "code",
   "execution_count": 32,
   "metadata": {
    "collapsed": true
   },
   "outputs": [],
   "source": [
    "# l2 = 1->3->4\n",
    "l2 = ListNode(4)\n",
    "for i in [3,1]:\n",
    "    a = ListNode(i)\n",
    "    a.next = l2\n",
    "    l2 = a"
   ]
  },
  {
   "cell_type": "code",
   "execution_count": 7,
   "metadata": {
    "collapsed": true
   },
   "outputs": [],
   "source": [
    "# 先获取所有链表的数组成list，对list进行排序，然后重组成链表。 36 ms\n",
    "def mergeTwoLists(l1,l2):\n",
    "    if not l1: return l2\n",
    "    if not l2: return l1\n",
    "    list_1 = []\n",
    "    list_2 = []\n",
    "    l1_c = l1\n",
    "    l2_c = l2\n",
    "    while(1):\n",
    "        list_1.append(l1_c.val)\n",
    "        if l1_c.next == None:\n",
    "            break\n",
    "        l1_c = l1_c.next\n",
    "\n",
    "    while(1):\n",
    "        list_2.append(l2_c.val)\n",
    "        if l2_c.next == None:\n",
    "            break\n",
    "        l2_c = l2_c.next\n",
    "\n",
    "    list_c = list_1 + list_2\n",
    "    list_c.sort()\n",
    "    list_c.reverse()\n",
    "    head = ListNode(list_c[0])\n",
    "    for node in list_c[1:]:\n",
    "        a = ListNode(node)\n",
    "        a.next = head\n",
    "        head = a\n",
    "    return head"
   ]
  },
  {
   "cell_type": "code",
   "execution_count": 8,
   "metadata": {},
   "outputs": [
    {
     "data": {
      "text/plain": [
       "<__main__.ListNode at 0x1e33e5a8588>"
      ]
     },
     "execution_count": 8,
     "metadata": {},
     "output_type": "execute_result"
    }
   ],
   "source": [
    "mergeTwoLists(l1,l2)"
   ]
  },
  {
   "cell_type": "code",
   "execution_count": 12,
   "metadata": {},
   "outputs": [],
   "source": [
    "# 递归 。44 ms\n",
    "def mergeTwoLists(l1,l2):\n",
    "    if not l1: return l2\n",
    "    if not l2: return l1\n",
    "    if l1.val < l2.val:\n",
    "        l1.next = mergeTwoLists(l1.next,l2)\n",
    "        return l1\n",
    "    else:\n",
    "        l2.next = mergeTwoLists(l1,l2.next)\n",
    "        return l2"
   ]
  },
  {
   "cell_type": "code",
   "execution_count": 13,
   "metadata": {},
   "outputs": [
    {
     "data": {
      "text/plain": [
       "<__main__.ListNode at 0x1e33e526ef0>"
      ]
     },
     "execution_count": 13,
     "metadata": {},
     "output_type": "execute_result"
    }
   ],
   "source": [
    "mergeTwoLists(l1,l2)"
   ]
  },
  {
   "cell_type": "code",
   "execution_count": 29,
   "metadata": {},
   "outputs": [],
   "source": [
    "# 迭代。 48ms\n",
    "def mergeTwoLists(l1,l2):\n",
    "    prehead = ListNode(0)\n",
    "    prev = prehead\n",
    "    while(l1 and l2):\n",
    "        if l1.val < l2.val:\n",
    "            prev.next = l1\n",
    "            l1 = l1.next\n",
    "        else:\n",
    "            prev.next = l2\n",
    "            l2 = l2.next\n",
    "        prev = prev.next\n",
    "    prev.next = l2 if not l1 else l1\n",
    "    return prehead.next"
   ]
  },
  {
   "cell_type": "code",
   "execution_count": 33,
   "metadata": {},
   "outputs": [
    {
     "data": {
      "text/plain": [
       "<__main__.ListNode at 0x1e33e531780>"
      ]
     },
     "execution_count": 33,
     "metadata": {},
     "output_type": "execute_result"
    }
   ],
   "source": [
    "mergeTwoLists(l1,l2)"
   ]
  },
  {
   "cell_type": "code",
   "execution_count": null,
   "metadata": {
    "collapsed": true
   },
   "outputs": [],
   "source": []
  }
 ],
 "metadata": {
  "kernelspec": {
   "display_name": "Python 3",
   "language": "python",
   "name": "python3"
  },
  "language_info": {
   "codemirror_mode": {
    "name": "ipython",
    "version": 3
   },
   "file_extension": ".py",
   "mimetype": "text/x-python",
   "name": "python",
   "nbconvert_exporter": "python",
   "pygments_lexer": "ipython3",
   "version": "3.6.2"
  }
 },
 "nbformat": 4,
 "nbformat_minor": 2
}
