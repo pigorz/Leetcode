{
 "cells": [
  {
   "cell_type": "code",
   "execution_count": 1,
   "metadata": {
    "collapsed": true
   },
   "outputs": [],
   "source": [
    "s: sissippi\n",
    "p: s*is*p*."
   ]
  },
  {
   "cell_type": "code",
   "execution_count": 259,
   "metadata": {
    "collapsed": true
   },
   "outputs": [],
   "source": [
    "s = ''\n",
    "p = \".*c\""
   ]
  },
  {
   "cell_type": "code",
   "execution_count": 262,
   "metadata": {},
   "outputs": [],
   "source": [
    "# 回溯法。关键在于判断s,p[2:]和s[1:],p中是否存在一个匹配。\n",
    "def isMatch(s,p):\n",
    "    if not p: return not s\n",
    "    match_re = bool(s) and ((s[0] == p[0])|(p[0] == '.'))\n",
    "    if len(p) >= 2 and p[1] == '*':\n",
    "        return isMatch(s,p[2:]) or match_re and isMatch(s[1:],p)\n",
    "    return match_re and isMatch(s[1:],p[1:])"
   ]
  },
  {
   "cell_type": "code",
   "execution_count": 285,
   "metadata": {},
   "outputs": [
    {
     "data": {
      "text/plain": [
       "True"
      ]
     },
     "execution_count": 285,
     "metadata": {},
     "output_type": "execute_result"
    }
   ],
   "source": [
    "isMatch(s,p)"
   ]
  },
  {
   "cell_type": "code",
   "execution_count": 159,
   "metadata": {},
   "outputs": [],
   "source": [
    "# 直接使用re.match 库。68ms\n",
    "import re\n",
    "def isMatch(s,p):\n",
    "    a = re.match(p,s,flags=0)\n",
    "    if a:\n",
    "        if a.group()  == s:\n",
    "            return True\n",
    "        else:\n",
    "            return False\n",
    "    else:\n",
    "        return False"
   ]
  },
  {
   "cell_type": "code",
   "execution_count": 160,
   "metadata": {},
   "outputs": [
    {
     "data": {
      "text/plain": [
       "True"
      ]
     },
     "execution_count": 160,
     "metadata": {},
     "output_type": "execute_result"
    }
   ],
   "source": [
    "isMatch(s,p)"
   ]
  },
  {
   "cell_type": "code",
   "execution_count": 283,
   "metadata": {},
   "outputs": [],
   "source": [
    "# 动态规划，自上而下，建立memo储存表，避免了重复匹配，加快了时间。68ms\n",
    "def isMatch(s,p):\n",
    "    memo = {}\n",
    "    def dp(i,j):\n",
    "        if (i,j) not in memo:  #避免的重复匹配\n",
    "            if j < len(p):\n",
    "                first_match = i<len(s) and p[j] in {s[i],'.'}\n",
    "                if j < len(p)-1 and p[j+1] == '*':\n",
    "                    ans = dp(i,j+2) or first_match and dp(i+1,j)\n",
    "                else:\n",
    "                    ans = first_match and dp(i+1,j+1)\n",
    "            else:\n",
    "                ans = i == len(s)\n",
    "            memo[i,j] = ans\n",
    "        return memo[i,j]\n",
    "    return dp(0,0)       "
   ]
  },
  {
   "cell_type": "code",
   "execution_count": 284,
   "metadata": {},
   "outputs": [
    {
     "data": {
      "text/plain": [
       "True"
      ]
     },
     "execution_count": 284,
     "metadata": {},
     "output_type": "execute_result"
    }
   ],
   "source": [
    "isMatch(s,p)"
   ]
  },
  {
   "cell_type": "code",
   "execution_count": null,
   "metadata": {
    "collapsed": true
   },
   "outputs": [],
   "source": []
  }
 ],
 "metadata": {
  "kernelspec": {
   "display_name": "Python 3",
   "language": "python",
   "name": "python3"
  },
  "language_info": {
   "codemirror_mode": {
    "name": "ipython",
    "version": 3
   },
   "file_extension": ".py",
   "mimetype": "text/x-python",
   "name": "python",
   "nbconvert_exporter": "python",
   "pygments_lexer": "ipython3",
   "version": "3.6.2"
  }
 },
 "nbformat": 4,
 "nbformat_minor": 2
}
