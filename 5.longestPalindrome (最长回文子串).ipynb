{
 "cells": [
  {
   "cell_type": "code",
   "execution_count": 337,
   "metadata": {
    "collapsed": true
   },
   "outputs": [],
   "source": [
    "s = 'ccc'"
   ]
  },
  {
   "cell_type": "code",
   "execution_count": 338,
   "metadata": {
    "collapsed": true
   },
   "outputs": [],
   "source": [
    "# 拉马车法 超时\n",
    "def longestPalindrome(s):\n",
    "    if len(s) == 0 or len(s) == 1: return s\n",
    "    s1 = ''.join('%s#'% i for i in s)\n",
    "    max_s = ''\n",
    "    max_len = 0\n",
    "    for i in range(len(s1)):\n",
    "        new_s = s1[i]\n",
    "        limit_down = i\n",
    "        limit_up = i\n",
    "        while(1):\n",
    "            if limit_down == 0 or limit_up == len(s1)-1: break\n",
    "            if s1[limit_down-1] == s1[limit_up+1]:\n",
    "                limit_down = limit_down - 1\n",
    "                limit_up = limit_up + 1\n",
    "                new_s = s1[limit_down] + new_s + s1[limit_up]\n",
    "                new_s1 = new_s.replace('#','')\n",
    "                if len(new_s1) > max_len:\n",
    "                    max_len = len(new_s1)\n",
    "                    max_s = new_s1\n",
    "            else:\n",
    "                break\n",
    "    return max_s\n",
    "max_s = longestPalindrome(s)"
   ]
  },
  {
   "cell_type": "code",
   "execution_count": 339,
   "metadata": {},
   "outputs": [
    {
     "data": {
      "text/plain": [
       "'ccc'"
      ]
     },
     "execution_count": 339,
     "metadata": {},
     "output_type": "execute_result"
    }
   ],
   "source": [
    "max_s"
   ]
  },
  {
   "cell_type": "code",
   "execution_count": 343,
   "metadata": {},
   "outputs": [],
   "source": [
    "# 中心扩展法 执行用时 :3448 ms, 在所有 Python3 提交中击败了40.31%的用户\n",
    "def longestPalindrome(s):\n",
    "    if len(s) == 0 or len(s) == 1: return s\n",
    "    max_s = ''\n",
    "    max_len = 0\n",
    "    for i in range(len(s)-1):\n",
    "        new_s = s[i]\n",
    "        if len(new_s) > len(max_s): max_s = new_s\n",
    "        limit_down = i\n",
    "        limit_up = i\n",
    "        while(1):\n",
    "            if limit_down == 0 or limit_up == len(s)-1: break\n",
    "            if s[limit_down-1] == s[limit_up+1]:\n",
    "                limit_down = limit_down - 1\n",
    "                limit_up = limit_up + 1\n",
    "                new_s = s[limit_down] + new_s + s[limit_up]\n",
    "                \n",
    "                if len(new_s) > max_len:\n",
    "                    max_len = len(new_s)\n",
    "                    max_s = new_s\n",
    "            else:\n",
    "                break\n",
    "        if s[i] == s[i+1]:\n",
    "            new_s = s[i] + s[i+1]\n",
    "            if len(new_s) > len(max_s): max_s = new_s\n",
    "            limit_down = i\n",
    "            limit_up = i + 1\n",
    "            while(1):\n",
    "                if limit_down == 0 or limit_up == len(s)-1: break\n",
    "                if s[limit_down-1] == s[limit_up+1]:\n",
    "                    limit_down = limit_down - 1\n",
    "                    limit_up = limit_up + 1\n",
    "                    new_s = s[limit_down] + new_s + s[limit_up]\n",
    "\n",
    "                    if len(new_s) > max_len:\n",
    "                        max_len = len(new_s)\n",
    "                        max_s = new_s\n",
    "                else:\n",
    "                    break\n",
    "\n",
    "    return max_s\n",
    "max_s = longestPalindrome(s)"
   ]
  },
  {
   "cell_type": "code",
   "execution_count": 344,
   "metadata": {},
   "outputs": [
    {
     "data": {
      "text/plain": [
       "'ccc'"
      ]
     },
     "execution_count": 344,
     "metadata": {},
     "output_type": "execute_result"
    }
   ],
   "source": [
    "max_s"
   ]
  },
  {
   "cell_type": "code",
   "execution_count": null,
   "metadata": {
    "collapsed": true
   },
   "outputs": [],
   "source": []
  }
 ],
 "metadata": {
  "kernelspec": {
   "display_name": "Python 3",
   "language": "python",
   "name": "python3"
  },
  "language_info": {
   "codemirror_mode": {
    "name": "ipython",
    "version": 3
   },
   "file_extension": ".py",
   "mimetype": "text/x-python",
   "name": "python",
   "nbconvert_exporter": "python",
   "pygments_lexer": "ipython3",
   "version": "3.6.2"
  }
 },
 "nbformat": 4,
 "nbformat_minor": 2
}
