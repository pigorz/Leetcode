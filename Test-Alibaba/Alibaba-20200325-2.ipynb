{
 "cells": [
  {
   "cell_type": "code",
   "execution_count": 12,
   "metadata": {},
   "outputs": [],
   "source": [
    "# 2020年3月25日阿里笔试题2\n",
    "# 题目描述：\n",
    "# 给出一个二维矩阵，这个矩阵的每一行和每一列都是一个独立的等差数列，其中一些数据缺失了，现在需要推理隐藏但是可以被唯一确定的数字，\n",
    "# 然后对输入的查询进行回答。\n",
    "\n",
    "# 输入描述：\n",
    "# 第一行，n,m,q分别表示矩阵的行数，列数和查询的条数。\n",
    "# 接下来的n行，每行m个数表示这个矩阵，0表示缺失数据。\n",
    "# 接下来q行，每行两个数字i,j表示对矩阵中第i行第j列的数字进行查询。\n",
    "\n",
    "# 输出描述：\n",
    "# 如果可以确定该位置的数字，则输出数字，如果不能确定则输出UNKNOWN。\n",
    "\n",
    "# 输入示例：\n",
    "# 2 3 6\n",
    "# 1 0 3\n",
    "# 0 0 0\n",
    "# 1 1\n",
    "# 1 2\n",
    "# 1 3\n",
    "# 2 1\n",
    "# 2 2\n",
    "# 2 3\n",
    "\n",
    "# 输出示例：\n",
    "# 1\n",
    "# 2\n",
    "# 3\n",
    "# Unknown\n",
    "# Unknown\n",
    "# Unknown"
   ]
  },
  {
   "cell_type": "code",
   "execution_count": null,
   "metadata": {
    "collapsed": true
   },
   "outputs": [],
   "source": [
    "n,m,q = [int(i) for i in input().split(' ')]\n",
    "A = []\n",
    "Q = []\n",
    "for i in range(n):\n",
    "    A.append([int(j) for j in input().split(' ')])\n",
    "for i in range(q):\n",
    "    Q.append([int(j) for j in input().split(' ')])\n",
    "\n",
    "    \n",
    "for i in range(q):\n",
    "    if A[Q[i][0]-1][Q[i][1]-1] == 0:\n",
    "        print('UNKNOWN')\n",
    "    else:\n",
    "        print(A[Q[i][0]-1][Q[i][1]-1])"
   ]
  }
 ],
 "metadata": {
  "kernelspec": {
   "display_name": "Python 3",
   "language": "python",
   "name": "python3"
  },
  "language_info": {
   "codemirror_mode": {
    "name": "ipython",
    "version": 3
   },
   "file_extension": ".py",
   "mimetype": "text/x-python",
   "name": "python",
   "nbconvert_exporter": "python",
   "pygments_lexer": "ipython3",
   "version": "3.6.2"
  }
 },
 "nbformat": 4,
 "nbformat_minor": 2
}
