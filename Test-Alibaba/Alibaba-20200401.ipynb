{
 "cells": [
  {
   "cell_type": "code",
   "execution_count": 2,
   "metadata": {},
   "outputs": [],
   "source": [
    "# // 两个数列A和B，如果它们都包含一段位置不一定连续的数，且数值是严格递增的，\n",
    "# //那么称这一段数是两个数列的公共上升子序列，而所有的公共上升子序列中最长的就是最长公共上升子序列\n",
    "\n",
    "# // 输入格式\n",
    "# // 第一行N，表示A，B的长度。\n",
    "# // 第二行，串A。\n",
    "# // 第三行，串B。\n",
    "\n",
    "# // 输出格式\n",
    "# // 输出长度。\n",
    "\n",
    "# // 样例输入\n",
    "# // 4\n",
    "# // 2 2 1 3\n",
    "# // 2 1 2 3\n",
    "# // 样例输出\n",
    "# // 2\n",
    "# // 数据范围与约定\n",
    "# // 1<=N<=3000，A，B中的数字不超过2^31-1"
   ]
  },
  {
   "cell_type": "code",
   "execution_count": 18,
   "metadata": {},
   "outputs": [
    {
     "name": "stdout",
     "output_type": "stream",
     "text": [
      "5\n",
      "1 1 2 1 3\n",
      "1 1 1 4 3\n"
     ]
    }
   ],
   "source": [
    "N = input()\n",
    "A = [int(i) for i in input().split(' ')]\n",
    "B = [int(i) for i in input().split(' ')]"
   ]
  },
  {
   "cell_type": "code",
   "execution_count": 19,
   "metadata": {},
   "outputs": [
    {
     "name": "stdout",
     "output_type": "stream",
     "text": [
      "2\n"
     ]
    }
   ],
   "source": [
    "def func(a,b):\n",
    "    if [x for x in list1 if x in list2] == []:\n",
    "        return 0\n",
    "    A = a\n",
    "    B = b\n",
    "    ans = 1\n",
    "    re = 1\n",
    "    for i in range(len(A)-1):\n",
    "        if A[i] < A[i+1]:\n",
    "            if A[i] in B:\n",
    "                if A[i+1] in B[B.index(A[i]):]:\n",
    "                    ans += 1\n",
    "        else:\n",
    "            re = max(ans,re)\n",
    "            ans = 1\n",
    "        re = max(re,ans)\n",
    "    return re\n",
    "\n",
    "print(max(func(A,B),func(B,A)))"
   ]
  }
 ],
 "metadata": {
  "kernelspec": {
   "display_name": "Python 3",
   "language": "python",
   "name": "python3"
  },
  "language_info": {
   "codemirror_mode": {
    "name": "ipython",
    "version": 3
   },
   "file_extension": ".py",
   "mimetype": "text/x-python",
   "name": "python",
   "nbconvert_exporter": "python",
   "pygments_lexer": "ipython3",
   "version": "3.6.2"
  }
 },
 "nbformat": 4,
 "nbformat_minor": 2
}
