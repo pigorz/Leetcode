{
 "cells": [
  {
   "cell_type": "code",
   "execution_count": 30,
   "metadata": {
    "collapsed": true
   },
   "outputs": [],
   "source": [
    "# 2020年3月25日阿里笔试题1\n",
    "# 题目描述：\n",
    "# 给定一个数组n，然后给三个长度为n的数组，可以从这三个数组中选出一个长度为n的数组，\n",
    "# 第i个位置需要是从给出的三个数组第i个位置选择的，然后要求使这个数组后一项减前一项的绝对值之和最小。\n",
    "\n",
    "# 输入示例：\n",
    "# 5 9  5 4  4\n",
    "# 4 7  4 10 3\n",
    "# 2 10 9 2  3\n",
    "# 这里可以选择5 7 5 4 4，所以输出等于|7-5|+|5-7|+|4-5|+|4-4|=5。所以输出就是5。"
   ]
  },
  {
   "cell_type": "code",
   "execution_count": null,
   "metadata": {
    "collapsed": true
   },
   "outputs": [],
   "source": [
    "def func():\n",
    "    n = int(input())\n",
    "    a1 = [int(i) for i in input().split(' ')]\n",
    "    a2 = [int(i) for i in input().split(' ')]\n",
    "    a3 = [int(i) for i in input().split(' ')]\n",
    "    minsum = [0,0,0]\n",
    "    preminsum = [0,0,0]\n",
    "    for i in range(n-1):\n",
    "        for j in range(3):\n",
    "            minsum[j] = min(preminsum[p] + abs(a[i][p]-a[i+1][j]) for p in range(3))\n",
    "        preminsum = minsum\n",
    "    return min(minsum)\n",
    "func()"
   ]
  }
 ],
 "metadata": {
  "kernelspec": {
   "display_name": "Python 3",
   "language": "python",
   "name": "python3"
  },
  "language_info": {
   "codemirror_mode": {
    "name": "ipython",
    "version": 3
   },
   "file_extension": ".py",
   "mimetype": "text/x-python",
   "name": "python",
   "nbconvert_exporter": "python",
   "pygments_lexer": "ipython3",
   "version": "3.6.2"
  }
 },
 "nbformat": 4,
 "nbformat_minor": 2
}
