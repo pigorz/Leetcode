{
 "cells": [
  {
   "cell_type": "code",
   "execution_count": 18,
   "metadata": {
    "collapsed": true
   },
   "outputs": [],
   "source": [
    "height = [1,8,6,2,5,4,8,3,7]"
   ]
  },
  {
   "cell_type": "code",
   "execution_count": 3,
   "metadata": {
    "collapsed": true
   },
   "outputs": [],
   "source": [
    "# 遍历。 超出时间限制\n",
    "def maxArea(height):\n",
    "    max_v = 0\n",
    "    for i in range(len(height)):\n",
    "        for j in range(i+1,len(height)):\n",
    "            v = min(height[i],height[j])*(j-i)\n",
    "            if max_v < v: max_v = v\n",
    "    return max_v"
   ]
  },
  {
   "cell_type": "code",
   "execution_count": 4,
   "metadata": {},
   "outputs": [
    {
     "data": {
      "text/plain": [
       "49"
      ]
     },
     "execution_count": 4,
     "metadata": {},
     "output_type": "execute_result"
    }
   ],
   "source": [
    "maxArea(height)"
   ]
  },
  {
   "cell_type": "code",
   "execution_count": 27,
   "metadata": {
    "collapsed": true
   },
   "outputs": [],
   "source": [
    "# 动态规划。两个指针，小指针向大指针移动。192ms\n",
    "def maxArea(height):\n",
    "    max_v = 0\n",
    "    i = 0\n",
    "    j = len(height)-1\n",
    "    while (1):\n",
    "        if height[j] < height[i]:\n",
    "            a = i\n",
    "            i = j\n",
    "            j = a\n",
    "        v = height[i]*abs(i-j)\n",
    "        max_v = v if v>max_v else max_v\n",
    "        if j - i > 0:\n",
    "            i = i + 1\n",
    "        elif j - i < 0:\n",
    "            i = i - 1\n",
    "        else:\n",
    "            return max_v"
   ]
  },
  {
   "cell_type": "code",
   "execution_count": 28,
   "metadata": {},
   "outputs": [
    {
     "name": "stdout",
     "output_type": "stream",
     "text": [
      "i: 0 ,j: 8 ,v: 8\n",
      "i: 8 ,j: 1 ,v: 49\n",
      "i: 7 ,j: 1 ,v: 18\n",
      "i: 6 ,j: 1 ,v: 40\n",
      "i: 5 ,j: 1 ,v: 16\n",
      "i: 4 ,j: 1 ,v: 15\n",
      "i: 3 ,j: 1 ,v: 4\n",
      "i: 2 ,j: 1 ,v: 6\n",
      "i: 1 ,j: 1 ,v: 0\n"
     ]
    },
    {
     "data": {
      "text/plain": [
       "49"
      ]
     },
     "execution_count": 28,
     "metadata": {},
     "output_type": "execute_result"
    }
   ],
   "source": [
    "maxArea(height)"
   ]
  }
 ],
 "metadata": {
  "kernelspec": {
   "display_name": "Python 3",
   "language": "python",
   "name": "python3"
  },
  "language_info": {
   "codemirror_mode": {
    "name": "ipython",
    "version": 3
   },
   "file_extension": ".py",
   "mimetype": "text/x-python",
   "name": "python",
   "nbconvert_exporter": "python",
   "pygments_lexer": "ipython3",
   "version": "3.6.2"
  }
 },
 "nbformat": 4,
 "nbformat_minor": 2
}
