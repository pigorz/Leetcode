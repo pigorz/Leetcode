{
 "cells": [
  {
   "cell_type": "code",
   "execution_count": 7,
   "metadata": {},
   "outputs": [
    {
     "data": {
      "text/plain": [
       "0"
      ]
     },
     "execution_count": 7,
     "metadata": {},
     "output_type": "execute_result"
    }
   ],
   "source": [
    "# 简单，但面试该方法可不行，运行时间：786ms,占用内存：5852k\n",
    "rotateArray = [3,4,5,1,2]\n",
    "def minNumberInRotateArray(rotateArray):\n",
    "    if rotateArray == []:\n",
    "        return 0\n",
    "    return min(rotateArray)\n",
    "\n",
    "minNumberInRotateArray(rotateArray)"
   ]
  },
  {
   "cell_type": "code",
   "execution_count": 11,
   "metadata": {},
   "outputs": [
    {
     "data": {
      "text/plain": [
       "1"
      ]
     },
     "execution_count": 11,
     "metadata": {},
     "output_type": "execute_result"
    }
   ],
   "source": [
    "# 二分法，运行时间：750ms,占用内存：5752k\n",
    "rotateArray = [3,4,5,1,2]\n",
    "def minNumberInRotateArray(rotateArray):\n",
    "    if rotateArray == []:\n",
    "        return 0\n",
    "    if len(rotateArray) == 1:\n",
    "        return rotateArray[0]\n",
    "    left,right = 0,len(rotateArray)-1\n",
    "    mid = (left+right)//2\n",
    "    if rotateArray[mid] > rotateArray[right]:\n",
    "        return minNumberInRotateArray(rotateArray[mid+1:])\n",
    "    else:\n",
    "        return minNumberInRotateArray(rotateArray[:mid+1])\n",
    "\n",
    "minNumberInRotateArray(rotateArray)"
   ]
  },
  {
   "cell_type": "code",
   "execution_count": 12,
   "metadata": {},
   "outputs": [
    {
     "data": {
      "text/plain": [
       "1"
      ]
     },
     "execution_count": 12,
     "metadata": {},
     "output_type": "execute_result"
    }
   ],
   "source": [
    "# 暴力遍历法，运行时间：720ms,占用内存：5732k\n",
    "rotateArray = [3,4,5,1,2]\n",
    "def minNumberInRotateArray(rotateArray):\n",
    "    if rotateArray == []:\n",
    "        return 0  \n",
    "    rec = -1\n",
    "    for i in rotateArray:\n",
    "        if i < rec:\n",
    "            return i\n",
    "        rec = i\n",
    "\n",
    "minNumberInRotateArray(rotateArray)"
   ]
  }
 ],
 "metadata": {
  "kernelspec": {
   "display_name": "Python 3",
   "language": "python",
   "name": "python3"
  },
  "language_info": {
   "codemirror_mode": {
    "name": "ipython",
    "version": 3
   },
   "file_extension": ".py",
   "mimetype": "text/x-python",
   "name": "python",
   "nbconvert_exporter": "python",
   "pygments_lexer": "ipython3",
   "version": "3.6.2"
  }
 },
 "nbformat": 4,
 "nbformat_minor": 2
}
