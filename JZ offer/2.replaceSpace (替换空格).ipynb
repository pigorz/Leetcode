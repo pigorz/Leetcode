{
 "cells": [
  {
   "cell_type": "code",
   "execution_count": 6,
   "metadata": {},
   "outputs": [
    {
     "data": {
      "text/plain": [
       "'We%20Are%20Happy'"
      ]
     },
     "execution_count": 6,
     "metadata": {},
     "output_type": "execute_result"
    }
   ],
   "source": [
    "# 利用python内置函数。运行时间：25ms,占用内存：5712k\n",
    "s = 'We Are Happy'\n",
    "\n",
    "def replaceSpace(s):\n",
    "    return s.replace(' ','%20')\n",
    "\n",
    "replaceSpace(s)"
   ]
  },
  {
   "cell_type": "code",
   "execution_count": 1,
   "metadata": {},
   "outputs": [
    {
     "data": {
      "text/plain": [
       "'We%20Are%20Happy'"
      ]
     },
     "execution_count": 1,
     "metadata": {},
     "output_type": "execute_result"
    }
   ],
   "source": [
    "# 遍历，判断是否为空格。运行时间：24ms,占用内存：5732k\n",
    "s = 'We Are Happy'\n",
    "\n",
    "def replaceSpace(s):\n",
    "    ans = ''\n",
    "    for i in s:\n",
    "        if i == ' ':\n",
    "            ans = ans + '%20'\n",
    "        else:\n",
    "            ans = ans + i\n",
    "    return ans\n",
    "\n",
    "replaceSpace(s)"
   ]
  },
  {
   "cell_type": "code",
   "execution_count": 18,
   "metadata": {},
   "outputs": [
    {
     "data": {
      "text/plain": [
       "'We%20Are%20Happy'"
      ]
     },
     "execution_count": 18,
     "metadata": {},
     "output_type": "execute_result"
    }
   ],
   "source": [
    "# 按空格分离s，再合并。运行时间：22ms,占用内存：5752k\n",
    "s = 'We Are Happy'\n",
    "\n",
    "def replaceSpace(s):\n",
    "    list_s = s.split(' ')\n",
    "    return '%20'.join(list_s)\n",
    "\n",
    "replaceSpace(s)"
   ]
  },
  {
   "cell_type": "code",
   "execution_count": 24,
   "metadata": {},
   "outputs": [
    {
     "data": {
      "text/plain": [
       "'%20%20%20'"
      ]
     },
     "execution_count": 24,
     "metadata": {},
     "output_type": "execute_result"
    }
   ],
   "source": [
    "# 从前往后，判断为空格时插入'%20'。运行时间：26ms,占用内存：5736k\n",
    "s = 'We Are Happy'\n",
    "\n",
    "def replaceSpace(s):\n",
    "    i = 0\n",
    "    while(i < len(s)):\n",
    "        if s[i] == ' ':\n",
    "            s = s[:i] + '%20' + s[i+1:]\n",
    "            i = i + 3\n",
    "        else:\n",
    "            i += 1\n",
    "    return s\n",
    "\n",
    "replaceSpace(s)"
   ]
  },
  {
   "cell_type": "code",
   "execution_count": 29,
   "metadata": {},
   "outputs": [
    {
     "data": {
      "text/plain": [
       "'%20%20'"
      ]
     },
     "execution_count": 29,
     "metadata": {},
     "output_type": "execute_result"
    }
   ],
   "source": [
    "# 从后往前，判断为空格时插入'%20'。运行时间：23ms,占用内存：5752k\n",
    "s = '  '\n",
    "\n",
    "def replaceSpace(s):\n",
    "    i = len(s)-1\n",
    "    while(i > -1):\n",
    "        if s[i] == ' ':\n",
    "            s = s[:i] + '%20' + s[i+1:]\n",
    "        i -= 1\n",
    "    return s\n",
    "\n",
    "replaceSpace(s)"
   ]
  }
 ],
 "metadata": {
  "kernelspec": {
   "display_name": "Python 3",
   "language": "python",
   "name": "python3"
  },
  "language_info": {
   "codemirror_mode": {
    "name": "ipython",
    "version": 3
   },
   "file_extension": ".py",
   "mimetype": "text/x-python",
   "name": "python",
   "nbconvert_exporter": "python",
   "pygments_lexer": "ipython3",
   "version": "3.6.2"
  }
 },
 "nbformat": 4,
 "nbformat_minor": 2
}
