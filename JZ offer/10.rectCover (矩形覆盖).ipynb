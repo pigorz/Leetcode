{
 "cells": [
  {
   "cell_type": "code",
   "execution_count": 7,
   "metadata": {},
   "outputs": [
    {
     "data": {
      "text/plain": [
       "5"
      ]
     },
     "execution_count": 7,
     "metadata": {},
     "output_type": "execute_result"
    }
   ],
   "source": [
    "# 仍然是形似斐波那契数列，f(n)=f(n-1)+f(n-2)。运行时间：27ms,占用内存：5848k\n",
    "# 方法1：用列表\n",
    "def rectCover(number):\n",
    "    res = [0,1,2]\n",
    "    if number in res:\n",
    "        return number\n",
    "    for i in range(3,number+1):\n",
    "        res.append(res[-1]+res[-2])\n",
    "    return res[-1]\n",
    "\n",
    "rectCover(4)"
   ]
  },
  {
   "cell_type": "code",
   "execution_count": 8,
   "metadata": {},
   "outputs": [
    {
     "data": {
      "text/plain": [
       "5"
      ]
     },
     "execution_count": 8,
     "metadata": {},
     "output_type": "execute_result"
    }
   ],
   "source": [
    "# 运行时间：23ms,占用内存：5856k\n",
    "# 方法2：直接赋值\n",
    "def rectCover(number):\n",
    "    res = [0,1,2]\n",
    "    if number in res:\n",
    "        return number\n",
    "    a,b = 1,2\n",
    "    for i in range(3,number+1):\n",
    "        b,a = a+b,b\n",
    "    return b\n",
    "\n",
    "rectCover(4)"
   ]
  }
 ],
 "metadata": {
  "kernelspec": {
   "display_name": "Python 3",
   "language": "python",
   "name": "python3"
  },
  "language_info": {
   "codemirror_mode": {
    "name": "ipython",
    "version": 3
   },
   "file_extension": ".py",
   "mimetype": "text/x-python",
   "name": "python",
   "nbconvert_exporter": "python",
   "pygments_lexer": "ipython3",
   "version": "3.6.2"
  }
 },
 "nbformat": 4,
 "nbformat_minor": 2
}
