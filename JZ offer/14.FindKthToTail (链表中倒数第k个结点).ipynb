{
 "cells": [
  {
   "cell_type": "code",
   "execution_count": 8,
   "metadata": {
    "collapsed": true
   },
   "outputs": [],
   "source": [
    "class ListNode:\n",
    "    def __init__(self, x):\n",
    "        self.val = x\n",
    "        self.next = None"
   ]
  },
  {
   "cell_type": "code",
   "execution_count": 32,
   "metadata": {},
   "outputs": [],
   "source": [
    "# head:0->1->2->3->4->5\n",
    "l = [1,2,3,4,5]\n",
    "head = ListNode(0)\n",
    "h = head\n",
    "for i in l:\n",
    "    h.next = ListNode(i)\n",
    "    h = h.next"
   ]
  },
  {
   "cell_type": "code",
   "execution_count": 40,
   "metadata": {},
   "outputs": [
    {
     "data": {
      "text/plain": [
       "<__main__.ListNode at 0x2c1912c14e0>"
      ]
     },
     "execution_count": 40,
     "metadata": {},
     "output_type": "execute_result"
    }
   ],
   "source": [
    "# 指针。运行时间：21ms,占用内存：5844k\n",
    "def FindKthToTail(head, k):\n",
    "    if not head:\n",
    "        return head\n",
    "    res = []\n",
    "    while head:\n",
    "        res.append(head)\n",
    "        head = head.next\n",
    "    if k > len(res) or k < 1:\n",
    "        return None\n",
    "    return res[-1-k+1]\n",
    "\n",
    "FindKthToTail(head,1)"
   ]
  }
 ],
 "metadata": {
  "kernelspec": {
   "display_name": "Python 3",
   "language": "python",
   "name": "python3"
  },
  "language_info": {
   "codemirror_mode": {
    "name": "ipython",
    "version": 3
   },
   "file_extension": ".py",
   "mimetype": "text/x-python",
   "name": "python",
   "nbconvert_exporter": "python",
   "pygments_lexer": "ipython3",
   "version": "3.6.2"
  }
 },
 "nbformat": 4,
 "nbformat_minor": 2
}
