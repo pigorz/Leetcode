{
 "cells": [
  {
   "cell_type": "code",
   "execution_count": 13,
   "metadata": {},
   "outputs": [
    {
     "data": {
      "text/plain": [
       "8.0"
      ]
     },
     "execution_count": 13,
     "metadata": {},
     "output_type": "execute_result"
    }
   ],
   "source": [
    "# 排列组合，2*a+1*b=number，遍历a，计算每次a取不同值时的排列组合。运行时间：24ms,占用内存：5860k\n",
    "def jumpFloor(number):\n",
    "    #定义阶乘函数\n",
    "    def factorial(p):\n",
    "        if p == 0 or p == 1:\n",
    "            return 1\n",
    "        f = 1\n",
    "        for i in range(1,p+1):\n",
    "            f = f * i\n",
    "        return f\n",
    "\n",
    "    res = 0\n",
    "    for a in range(0,number//2+1):\n",
    "        b = number - 2*a\n",
    "        res = factorial(a+b)/(factorial(a)*factorial(b)) + res\n",
    "    return res\n",
    "\n",
    "jumpFloor(5)"
   ]
  },
  {
   "cell_type": "code",
   "execution_count": 19,
   "metadata": {},
   "outputs": [
    {
     "data": {
      "text/plain": [
       "8"
      ]
     },
     "execution_count": 19,
     "metadata": {},
     "output_type": "execute_result"
    }
   ],
   "source": [
    "# number=1时有1种，=2时有2种，=3是有3种，=4时有5种...f(n) = f(n-1)+f(n-2) 类似于斐波那契数列\n",
    "# 文字理解：加入要跳到第n阶，那么只能从n-1阶跳1阶，或者从n-2阶跳2阶。那么调到n阶的方法就是跳到n-1阶和n-2阶方法数之和。\n",
    "# 方法1 自身函数迭代，超时\n",
    "def jumpFloor(number):\n",
    "    if number in [0,1,2]:\n",
    "        return number\n",
    "    return jumpFloor(number-1)+jumpFloor(number-2)\n",
    "\n",
    "jumpFloor(5)"
   ]
  },
  {
   "cell_type": "code",
   "execution_count": 18,
   "metadata": {},
   "outputs": [
    {
     "data": {
      "text/plain": [
       "8"
      ]
     },
     "execution_count": 18,
     "metadata": {},
     "output_type": "execute_result"
    }
   ],
   "source": [
    "# number=1时有1种，=2时有2种，=3是有3种，=4时有5种...f(n) = f(n-1)+f(n-2) 类似于斐波那契数列\n",
    "# 文字理解：加入要跳到第n阶，那么只能从n-1阶跳1阶，或者从n-2阶跳2阶。那么调到n阶的方法就是跳到n-1阶和n-2阶方法数之和。\n",
    "# 方法2 根据number创建数列，运行时间：23ms,占用内存：5860k\n",
    "def jumpFloor(number):\n",
    "    res = [0,1,2]\n",
    "    if number in res:\n",
    "        return number\n",
    "    for i in range(3,number+1):\n",
    "        res.append(res[-1]+res[-2])\n",
    "    return res[-1]\n",
    "\n",
    "jumpFloor(5)"
   ]
  }
 ],
 "metadata": {
  "kernelspec": {
   "display_name": "Python 3",
   "language": "python",
   "name": "python3"
  },
  "language_info": {
   "codemirror_mode": {
    "name": "ipython",
    "version": 3
   },
   "file_extension": ".py",
   "mimetype": "text/x-python",
   "name": "python",
   "nbconvert_exporter": "python",
   "pygments_lexer": "ipython3",
   "version": "3.6.2"
  }
 },
 "nbformat": 4,
 "nbformat_minor": 2
}
