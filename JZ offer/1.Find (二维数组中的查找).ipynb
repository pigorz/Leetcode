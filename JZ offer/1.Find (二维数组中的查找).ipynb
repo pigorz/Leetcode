{
 "cells": [
  {
   "cell_type": "code",
   "execution_count": 24,
   "metadata": {
    "collapsed": true
   },
   "outputs": [],
   "source": [
    "# 每行粗暴遍历，运行时间：237ms,占用内存：5864k\n",
    "array = [[1,2,3],[4,5,6],[7,8,9]]\n",
    "target = 2\n",
    "\n",
    "def Find(target,array):\n",
    "    for i in range(len(array)):\n",
    "        if target in array[i]:\n",
    "            return True\n",
    "    return False\n",
    "\n",
    "Find(target,array)"
   ]
  },
  {
   "cell_type": "code",
   "execution_count": 29,
   "metadata": {},
   "outputs": [
    {
     "data": {
      "text/plain": [
       "True"
      ]
     },
     "execution_count": 29,
     "metadata": {},
     "output_type": "execute_result"
    }
   ],
   "source": [
    "# 每个元素粗暴遍历,运行时间：215ms,占用内存：5732k\n",
    "array = [[1,2,3],[4,5,6],[7,8,9]]\n",
    "target = 2\n",
    "\n",
    "def Find(target,array):\n",
    "    for i in range(len(array)):\n",
    "        for j in range(len(array[i])):\n",
    "            if array[i][j] == target:\n",
    "                return True\n",
    "    return False\n",
    "\n",
    "Find(target,array)"
   ]
  },
  {
   "cell_type": "code",
   "execution_count": 60,
   "metadata": {},
   "outputs": [
    {
     "name": "stdout",
     "output_type": "stream",
     "text": [
      "0\n",
      "1\n"
     ]
    },
    {
     "data": {
      "text/plain": [
       "True"
      ]
     },
     "execution_count": 60,
     "metadata": {},
     "output_type": "execute_result"
    }
   ],
   "source": [
    "# 对每行进行二分类搜索,运行时间：340ms,占用内存：5712k\n",
    "array = [[1,2,3,8],[2,3,5,10],[4,5,6,11]]\n",
    "target = 5\n",
    "\n",
    "def Find(target,array):\n",
    "    for i in range(len(array)):\n",
    "        left,right = 0,len(array[i])-1\n",
    "        print(i)\n",
    "        while(left < right):\n",
    "            mid = (left+right)//2\n",
    "            if array[i][left] < target and target < array[i][mid]:\n",
    "                right = mid\n",
    "            elif array[i][mid] < target and target < array[i][right]:\n",
    "                left = mid+1\n",
    "            elif array[i][left] == target or array[i][mid] == target or array[i][right] == target:\n",
    "                return True\n",
    "            else:\n",
    "                break\n",
    "    return False\n",
    "\n",
    "Find(target,array)"
   ]
  },
  {
   "cell_type": "code",
   "execution_count": 66,
   "metadata": {},
   "outputs": [
    {
     "data": {
      "text/plain": [
       "False"
      ]
     },
     "execution_count": 66,
     "metadata": {},
     "output_type": "execute_result"
    }
   ],
   "source": [
    "# 从右上角开始，若target大于x，向下走；若target小于x向左走。运行时间：215ms,占用内存：5768k\n",
    "array = [[1,2,3,8],[2,3,5,10],[4,5,6,11]]\n",
    "target = 12\n",
    "\n",
    "def Find(target,array):\n",
    "    i,j = 0,len(array[0])-1\n",
    "    while(i<len(array) and j > -1):\n",
    "        x = array[i][j]\n",
    "        if target > x:\n",
    "            i += 1\n",
    "        elif target < x:\n",
    "            j -= 1\n",
    "        else:\n",
    "            return True\n",
    "    return False\n",
    "\n",
    "Find(target,array)"
   ]
  }
 ],
 "metadata": {
  "kernelspec": {
   "display_name": "Python 3",
   "language": "python",
   "name": "python3"
  },
  "language_info": {
   "codemirror_mode": {
    "name": "ipython",
    "version": 3
   },
   "file_extension": ".py",
   "mimetype": "text/x-python",
   "name": "python",
   "nbconvert_exporter": "python",
   "pygments_lexer": "ipython3",
   "version": "3.6.2"
  }
 },
 "nbformat": 4,
 "nbformat_minor": 2
}
