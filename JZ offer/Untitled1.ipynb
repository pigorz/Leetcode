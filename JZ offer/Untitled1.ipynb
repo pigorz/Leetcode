{
 "cells": [
  {
   "cell_type": "code",
   "execution_count": 25,
   "metadata": {
    "collapsed": true
   },
   "outputs": [],
   "source": []
  },
  {
   "cell_type": "code",
   "execution_count": 42,
   "metadata": {},
   "outputs": [
    {
     "name": "stdout",
     "output_type": "stream",
     "text": [
      "ABC 3\n",
      "B 2\n",
      "C 3\n",
      "BD 5\n",
      "D 5\n",
      "ABC 8\n",
      "B 7\n",
      "C 8\n",
      "D 9\n"
     ]
    },
    {
     "data": {
      "text/plain": [
       "'ABC'"
      ]
     },
     "execution_count": 42,
     "metadata": {},
     "output_type": "execute_result"
    }
   ],
   "source": [
    "X=\"ABCBDABCD\"\n",
    "Y=\"BDCABCABCD\"\n",
    "def func(X,Y):\n",
    "    s = ''\n",
    "    for i in range(len(X)):\n",
    "        if X[i] in Y:\n",
    "            s_1 = ''\n",
    "            j = Y.index(X[i])\n",
    "            while j<len(Y) and i<len(X):\n",
    "                if X[i] == Y[j]:\n",
    "                    s_1 = s_1 + X[i]\n",
    "                    j += 1\n",
    "                    i += 1\n",
    "                else:\n",
    "                    break\n",
    "        if len(s_1) > len(s):\n",
    "            s = s_1\n",
    "    return s\n",
    "\n",
    "func(X,Y)"
   ]
  },
  {
   "cell_type": "code",
   "execution_count": 34,
   "metadata": {},
   "outputs": [],
   "source": [
    "s = '1'"
   ]
  },
  {
   "cell_type": "code",
   "execution_count": 30,
   "metadata": {},
   "outputs": [
    {
     "data": {
      "text/plain": [
       "'1A'"
      ]
     },
     "execution_count": 30,
     "metadata": {},
     "output_type": "execute_result"
    }
   ],
   "source": [
    "s + 'A'"
   ]
  },
  {
   "cell_type": "code",
   "execution_count": null,
   "metadata": {
    "collapsed": true
   },
   "outputs": [],
   "source": []
  },
  {
   "cell_type": "code",
   "execution_count": 50,
   "metadata": {},
   "outputs": [
    {
     "name": "stdout",
     "output_type": "stream",
     "text": [
      "0 4 [9999999999, -80]\n",
      "0 3 [9999999999, -80, 0]\n",
      "0 2 [9999999999, -80, 0, 115]\n"
     ]
    },
    {
     "data": {
      "text/plain": [
       "[0, 3]"
      ]
     },
     "execution_count": 50,
     "metadata": {},
     "output_type": "execute_result"
    }
   ],
   "source": [
    "a = [[1,3,5,120,200],[2,4,50,130,210],[5,7,55,140,220]]\n",
    "target = 120\n",
    "def func(a,target):\n",
    "    i = 0\n",
    "    j = len(a[0])-1\n",
    "    dd = [9999999999]\n",
    "    while 1:\n",
    "        dd.append(target - a[i][j])\n",
    "        if dd[-1] > 0:\n",
    "            i += 1\n",
    "        else:\n",
    "            j -= 1\n",
    "        if abs(dd[-1]) > abs(dd[-2]):\n",
    "            break\n",
    "    return [i-1,j+1]\n",
    "\n",
    "func(a,target)"
   ]
  },
  {
   "cell_type": "code",
   "execution_count": null,
   "metadata": {
    "collapsed": true
   },
   "outputs": [],
   "source": []
  },
  {
   "cell_type": "code",
   "execution_count": null,
   "metadata": {
    "collapsed": true
   },
   "outputs": [],
   "source": []
  }
 ],
 "metadata": {
  "kernelspec": {
   "display_name": "Python 3",
   "language": "python",
   "name": "python3"
  },
  "language_info": {
   "codemirror_mode": {
    "name": "ipython",
    "version": 3
   },
   "file_extension": ".py",
   "mimetype": "text/x-python",
   "name": "python",
   "nbconvert_exporter": "python",
   "pygments_lexer": "ipython3",
   "version": "3.6.2"
  }
 },
 "nbformat": 4,
 "nbformat_minor": 2
}
