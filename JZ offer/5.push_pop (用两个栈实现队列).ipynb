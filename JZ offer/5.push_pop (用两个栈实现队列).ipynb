{
 "cells": [
  {
   "cell_type": "code",
   "execution_count": 70,
   "metadata": {},
   "outputs": [
    {
     "data": {
      "text/plain": [
       "[None, None, None, 1, 2, None, 3, None, 4, 5]"
      ]
     },
     "execution_count": 70,
     "metadata": {},
     "output_type": "execute_result"
    }
   ],
   "source": [
    "# python2 的list没有copy()函数，该程序只能在python3上跑\n",
    "class Solution:\n",
    "    def __init__ (self):\n",
    "        self.stack1 = []\n",
    "        self.stack2 = []\n",
    "    def push(self, node):\n",
    "        self.stack1.append(node)\n",
    "        #return self.stack1\n",
    "    def pop(self):\n",
    "        self.stack1.reverse()\n",
    "        self.stack2 = self.stack1.copy()\n",
    "        self.stack1.pop()\n",
    "        self.stack1.reverse()\n",
    "        return self.stack2.pop()\n",
    "    \n",
    "a = Solution()\n",
    "[a.push(1),a.push(2),a.push(3),a.pop(),a.pop(),a.push(4),a.pop(),a.push(5),a.pop(),a.pop()]"
   ]
  },
  {
   "cell_type": "code",
   "execution_count": 71,
   "metadata": {},
   "outputs": [
    {
     "data": {
      "text/plain": [
       "[None, None, None, 1, 2, None, 3, None, 4, 5]"
      ]
     },
     "execution_count": 71,
     "metadata": {},
     "output_type": "execute_result"
    }
   ],
   "source": [
    "# 队列数据只储存在stack1上，stack2用来辅助，运行时间：21ms,占用内存：5860k\n",
    "class Solution:\n",
    "    def __init__ (self):\n",
    "        self.stack1 = []\n",
    "        self.stack2 = []\n",
    "    def push(self, node):\n",
    "        self.stack1.append(node)\n",
    "        #return self.stack1\n",
    "    def pop(self):\n",
    "        while len(self.stack1)>1:\n",
    "            self.stack2.insert(0,self.stack1.pop())\n",
    "        self.stack2.append(self.stack1.pop())\n",
    "        self.stack1 = self.stack2\n",
    "        self.stack2 = []\n",
    "        return self.stack1.pop()\n",
    "\n",
    "a = Solution()\n",
    "[a.push(1),a.push(2),a.push(3),a.pop(),a.pop(),a.push(4),a.pop(),a.push(5),a.pop(),a.pop()]"
   ]
  },
  {
   "cell_type": "code",
   "execution_count": 90,
   "metadata": {},
   "outputs": [
    {
     "data": {
      "text/plain": [
       "[None, None, None, 1, 2, None, 3, None, 4, 5]"
      ]
     },
     "execution_count": 90,
     "metadata": {},
     "output_type": "execute_result"
    }
   ],
   "source": [
    "# 队列数据储存在stack1或stack2上，每次pop()后轮换储存数据，运行时间：25ms,占用内存：5752k\n",
    "class Solution:\n",
    "    def __init__ (self):\n",
    "        self.stack1 = []\n",
    "        self.stack2 = []\n",
    "    def push(self, node):\n",
    "        if self.stack1 ==[]:\n",
    "            self.stack2.append(node)\n",
    "            #return self.stack2\n",
    "        else:\n",
    "            self.stack1.append(node)\n",
    "            #return self.stack1\n",
    "    def pop(self):\n",
    "        if self.stack2 == []:\n",
    "            while len(self.stack1) > 1:\n",
    "                self.stack2.insert(0,self.stack1.pop())\n",
    "            return self.stack1.pop()\n",
    "        if self.stack1 == []:\n",
    "            while len(self.stack2) > 1:\n",
    "                self.stack1.insert(0,self.stack2.pop())\n",
    "            return self.stack2.pop()\n",
    "\n",
    "a = Solution()\n",
    "[a.push(1),a.push(2),a.push(3),a.pop(),a.pop(),a.push(4),a.pop(),a.push(5),a.pop(),a.pop()]"
   ]
  },
  {
   "cell_type": "code",
   "execution_count": 92,
   "metadata": {},
   "outputs": [
    {
     "data": {
      "text/plain": [
       "[None, None, None, 1, 2, None, 3, None, 4, 5]"
      ]
     },
     "execution_count": 92,
     "metadata": {},
     "output_type": "execute_result"
    }
   ],
   "source": [
    "# 队列数据同时储存在stack1和stack2上，每次pop() stack2上的数据，运行时间：26ms,占用内存：5744k\n",
    "class Solution:\n",
    "    def __init__ (self):\n",
    "        self.stack1 = []\n",
    "        self.stack2 = []\n",
    "    def push(self, node):\n",
    "        self.stack1.append(node)\n",
    "        #return self.stack1\n",
    "    def pop(self):\n",
    "        if self.stack2 == []:\n",
    "            while self.stack1:\n",
    "                self.stack2.append(self.stack1.pop())\n",
    "        return self.stack2.pop()\n",
    "\n",
    "a = Solution()\n",
    "[a.push(1),a.push(2),a.push(3),a.pop(),a.pop(),a.push(4),a.pop(),a.push(5),a.pop(),a.pop()]"
   ]
  }
 ],
 "metadata": {
  "kernelspec": {
   "display_name": "Python 3",
   "language": "python",
   "name": "python3"
  },
  "language_info": {
   "codemirror_mode": {
    "name": "ipython",
    "version": 3
   },
   "file_extension": ".py",
   "mimetype": "text/x-python",
   "name": "python",
   "nbconvert_exporter": "python",
   "pygments_lexer": "ipython3",
   "version": "3.6.2"
  }
 },
 "nbformat": 4,
 "nbformat_minor": 2
}
