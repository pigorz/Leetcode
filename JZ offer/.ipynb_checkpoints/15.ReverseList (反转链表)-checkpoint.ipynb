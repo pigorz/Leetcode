{
 "cells": [
  {
   "cell_type": "code",
   "execution_count": 1,
   "metadata": {
    "collapsed": true
   },
   "outputs": [],
   "source": [
    "class ListNode:\n",
    "    def __init__(self, x):\n",
    "        self.val = x\n",
    "        self.next = None"
   ]
  },
  {
   "cell_type": "code",
   "execution_count": 2,
   "metadata": {
    "collapsed": true
   },
   "outputs": [],
   "source": [
    "# head:0->1->2->3->4->5\n",
    "l = [1,2,3,4,5]\n",
    "head = ListNode(0)\n",
    "h = head\n",
    "for i in l:\n",
    "    h.next = ListNode(i)\n",
    "    h = h.next"
   ]
  },
  {
   "cell_type": "code",
   "execution_count": 13,
   "metadata": {},
   "outputs": [
    {
     "data": {
      "text/plain": [
       "<__main__.ListNode at 0x211b72bbb00>"
      ]
     },
     "execution_count": 13,
     "metadata": {},
     "output_type": "execute_result"
    }
   ],
   "source": [
    "# 指针，列表。运行时间：21ms，占用内存：5852k\n",
    "def ReverseList(pHead):\n",
    "    res = ListNode(0)\n",
    "    p = res\n",
    "    l = []\n",
    "    while pHead:\n",
    "        l.insert(0,pHead)\n",
    "        pHead = pHead.next\n",
    "    for i in l:\n",
    "        p.next = ListNode(i.val)\n",
    "        p = p.next\n",
    "    return res.next\n",
    "\n",
    "ReverseList(head)"
   ]
  }
 ],
 "metadata": {
  "kernelspec": {
   "display_name": "Python 3",
   "language": "python",
   "name": "python3"
  },
  "language_info": {
   "codemirror_mode": {
    "name": "ipython",
    "version": 3
   },
   "file_extension": ".py",
   "mimetype": "text/x-python",
   "name": "python",
   "nbconvert_exporter": "python",
   "pygments_lexer": "ipython3",
   "version": "3.6.2"
  }
 },
 "nbformat": 4,
 "nbformat_minor": 2
}
