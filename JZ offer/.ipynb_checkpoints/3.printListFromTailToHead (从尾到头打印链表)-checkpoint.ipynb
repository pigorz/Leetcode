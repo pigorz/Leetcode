{
 "cells": [
  {
   "cell_type": "code",
   "execution_count": 57,
   "metadata": {
    "collapsed": true
   },
   "outputs": [],
   "source": [
    "# 由于python没有自带的链表对象，先定义个ListNode类\n",
    "class ListNode:\n",
    "    def __init__(self, x):\n",
    "        self.val = x\n",
    "        self.next = None"
   ]
  },
  {
   "cell_type": "code",
   "execution_count": 69,
   "metadata": {
    "collapsed": true
   },
   "outputs": [],
   "source": [
    "# 创建输入数据示例，head = 1->2->3->4->5\n",
    "head = ListNode(5)\n",
    "for i in [4,3,2,1]:\n",
    "    a = ListNode(i)\n",
    "    a.next = head\n",
    "    head = a"
   ]
  },
  {
   "cell_type": "code",
   "execution_count": 59,
   "metadata": {},
   "outputs": [],
   "source": [
    "# 使用list的append()函数，在inverse()反向排序，运行时间：27ms,占用内存：5820k\n",
    "def printListFromTailToHead(listNode):\n",
    "    head = listNode\n",
    "    ans = []\n",
    "    while head:\n",
    "        ans.append(head.val)\n",
    "        head = head.next\n",
    "    ans.reverse()\n",
    "    return ans\n",
    "\n",
    "printListFromTailToHead(head)"
   ]
  },
  {
   "cell_type": "code",
   "execution_count": 70,
   "metadata": {},
   "outputs": [
    {
     "data": {
      "text/plain": [
       "[5, 4, 3, 2, 1]"
      ]
     },
     "execution_count": 70,
     "metadata": {},
     "output_type": "execute_result"
    }
   ],
   "source": [
    "# 直接使用list的insert()向第1个元素插入，运行时间：24ms，占用内存：5832k\n",
    "def printListFromTailToHead(listNode):\n",
    "    head = listNode\n",
    "    ans = []\n",
    "    while head:\n",
    "        ans.insert(0,head.val)\n",
    "        head = head.next\n",
    "    return ans\n",
    "\n",
    "printListFromTailToHead(head)"
   ]
  }
 ],
 "metadata": {
  "kernelspec": {
   "display_name": "Python 3",
   "language": "python",
   "name": "python3"
  },
  "language_info": {
   "codemirror_mode": {
    "name": "ipython",
    "version": 3
   },
   "file_extension": ".py",
   "mimetype": "text/x-python",
   "name": "python",
   "nbconvert_exporter": "python",
   "pygments_lexer": "ipython3",
   "version": "3.6.2"
  }
 },
 "nbformat": 4,
 "nbformat_minor": 2
}
