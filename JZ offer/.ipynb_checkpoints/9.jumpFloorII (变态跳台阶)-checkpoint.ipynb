{
 "cells": [
  {
   "cell_type": "code",
   "execution_count": 6,
   "metadata": {},
   "outputs": [
    {
     "data": {
      "text/plain": [
       "16"
      ]
     },
     "execution_count": 6,
     "metadata": {},
     "output_type": "execute_result"
    }
   ],
   "source": [
    "# number=1时1种跳法，=2时2种跳法。假设每次一次性跳到n，则可以从n-1跳1阶，从n-2跳2阶，从n-3跳3阶...，因此f(n)=f(n-1)+f(n-2)+...+f(1)+1。\n",
    "# 运行时间：31ms,占用内存：5732k\n",
    "def jumpFloorII(number):\n",
    "    res = [0,1,2]\n",
    "    if number in res:\n",
    "        return number\n",
    "    for i in range(3,number+1):\n",
    "        res.append(sum(res)+1)\n",
    "    return res[-1]\n",
    "\n",
    "jumpFloorII(5)"
   ]
  },
  {
   "cell_type": "code",
   "execution_count": 11,
   "metadata": {},
   "outputs": [
    {
     "data": {
      "text/plain": [
       "8"
      ]
     },
     "execution_count": 11,
     "metadata": {},
     "output_type": "execute_result"
    }
   ],
   "source": [
    "# f(n)=f(n-1)+f(n-2)+...+f(1)+1。真实的数列是：1,2,4,8,16... 2^(number-1)\n",
    "# 运行时间：25ms,占用内存：5752k\n",
    "def jumpFloorII(number):\n",
    "    return 2**(number-1)\n",
    "\n",
    "jumpFloorII(4)"
   ]
  }
 ],
 "metadata": {
  "kernelspec": {
   "display_name": "Python 3",
   "language": "python",
   "name": "python3"
  },
  "language_info": {
   "codemirror_mode": {
    "name": "ipython",
    "version": 3
   },
   "file_extension": ".py",
   "mimetype": "text/x-python",
   "name": "python",
   "nbconvert_exporter": "python",
   "pygments_lexer": "ipython3",
   "version": "3.6.2"
  }
 },
 "nbformat": 4,
 "nbformat_minor": 2
}
