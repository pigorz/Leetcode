{
 "cells": [
  {
   "cell_type": "code",
   "execution_count": 59,
   "metadata": {},
   "outputs": [],
   "source": [
    "class TreeNode:\n",
    "    def __init__(self, x):\n",
    "        self.val = x\n",
    "        self.left = None\n",
    "        self.right = None"
   ]
  },
  {
   "cell_type": "code",
   "execution_count": 63,
   "metadata": {},
   "outputs": [
    {
     "data": {
      "text/plain": [
       "<__main__.TreeNode at 0x2c262d895f8>"
      ]
     },
     "execution_count": 63,
     "metadata": {},
     "output_type": "execute_result"
    }
   ],
   "source": [
    "# 指针法，建立tree的指针rec，运行时间：47ms,占用内存：5724k\n",
    "pre = [1,2,4,7,3,5,6,8]\n",
    "tin = [4,7,2,1,5,3,8,6]\n",
    "\n",
    "def reConstructBinaryTree(pre, tin):\n",
    "    def func(pre_1,tin_1,rec):\n",
    "        cent = pre_1[0]\n",
    "        cent_index = tin_1.index(cent)\n",
    "        left = tin_1[:cent_index]\n",
    "        right = tin_1[cent_index+1:]\n",
    "        if left:\n",
    "            rec.left = TreeNode(pre_1[0+1])\n",
    "            func(pre_1[1:len(left)+1],tin_1[:len(left)],rec.left)\n",
    "        if right:\n",
    "            rec.right = TreeNode(pre_1[0+len(left)+1])\n",
    "            func(pre_1[1+len(left):],tin_1[len(left)+1:],rec.right)\n",
    "        if left == [] and right == []:\n",
    "            return\n",
    "    tree = TreeNode(pre[0])\n",
    "    rec = tree\n",
    "    func(pre,tin,rec)\n",
    "    return tree\n",
    "\n",
    "reConstructBinaryTree(pre,tin)"
   ]
  },
  {
   "cell_type": "code",
   "execution_count": null,
   "metadata": {
    "collapsed": true
   },
   "outputs": [],
   "source": []
  },
  {
   "cell_type": "code",
   "execution_count": 67,
   "metadata": {},
   "outputs": [
    {
     "data": {
      "text/plain": [
       "<__main__.TreeNode at 0x2c262c7d860>"
      ]
     },
     "execution_count": 67,
     "metadata": {},
     "output_type": "execute_result"
    }
   ],
   "source": [
    "# 迭代法，自底部往上添加节点，运行时间：45ms，占用内存：5744k\n",
    "pre = [1,2,4,7,3,5,6,8]\n",
    "tin = [4,7,2,1,5,3,8,6]\n",
    "\n",
    "def reConstructBinaryTree(pre, tin):\n",
    "    if not pre:\n",
    "        return None\n",
    "    if len(pre) == 1:\n",
    "        return TreeNode(pre[0])\n",
    "\n",
    "    pre_left = pre[1:tin.index(pre[0])+1]\n",
    "    tin_left = tin[:tin.index(pre[0])]\n",
    "    \n",
    "    pre_right = pre[tin.index(pre[0])+1:]\n",
    "    tin_right = tin[tin.index(pre[0])+1:]\n",
    "    \n",
    "    tree = TreeNode(pre[0])\n",
    "    tree.left = reConstructBinaryTree(pre_left, tin_left)\n",
    "    tree.right = reConstructBinaryTree(pre_right, tin_right)\n",
    "    \n",
    "    return tree\n",
    "    \n",
    "reConstructBinaryTree(pre,tin)"
   ]
  },
  {
   "cell_type": "code",
   "execution_count": null,
   "metadata": {
    "collapsed": true
   },
   "outputs": [],
   "source": []
  }
 ],
 "metadata": {
  "kernelspec": {
   "display_name": "Python 3",
   "language": "python",
   "name": "python3"
  },
  "language_info": {
   "codemirror_mode": {
    "name": "ipython",
    "version": 3
   },
   "file_extension": ".py",
   "mimetype": "text/x-python",
   "name": "python",
   "nbconvert_exporter": "python",
   "pygments_lexer": "ipython3",
   "version": "3.6.2"
  }
 },
 "nbformat": 4,
 "nbformat_minor": 2
}
