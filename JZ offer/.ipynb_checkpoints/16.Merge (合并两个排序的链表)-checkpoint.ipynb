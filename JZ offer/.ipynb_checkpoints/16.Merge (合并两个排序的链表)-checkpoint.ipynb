{
 "cells": [
  {
   "cell_type": "code",
   "execution_count": 3,
   "metadata": {
    "collapsed": true
   },
   "outputs": [],
   "source": [
    "class ListNode:\n",
    "    def __init__(self, x):\n",
    "        self.val = x\n",
    "        self.next = None"
   ]
  },
  {
   "cell_type": "code",
   "execution_count": 4,
   "metadata": {
    "collapsed": true
   },
   "outputs": [],
   "source": [
    "# pHead1:0->1->3\n",
    "l = [1,3]\n",
    "pHead1 = ListNode(0)\n",
    "h = pHead1\n",
    "for i in l:\n",
    "    h.next = ListNode(i)\n",
    "    h = h.next"
   ]
  },
  {
   "cell_type": "code",
   "execution_count": 5,
   "metadata": {
    "collapsed": true
   },
   "outputs": [],
   "source": [
    "# pHead2:0->2->4->5\n",
    "l = [2,4,5]\n",
    "pHead2 = ListNode(0)\n",
    "h = pHead2\n",
    "for i in l:\n",
    "    h.next = ListNode(i)\n",
    "    h = h.next"
   ]
  },
  {
   "cell_type": "code",
   "execution_count": 10,
   "metadata": {
    "collapsed": true
   },
   "outputs": [],
   "source": [
    "# 运行时间：28ms,占用内存：5856k\n",
    "def Merge(pHead1, pHead2):\n",
    "    res = ListNode(0)\n",
    "    p = res\n",
    "    while 1:\n",
    "        if not pHead1:\n",
    "            p.next = pHead2\n",
    "            break\n",
    "        if not pHead2:\n",
    "            p.next = pHead1\n",
    "            break\n",
    "        if pHead1.val <= pHead2.val:\n",
    "            p.next = ListNode(pHead1.val)\n",
    "            pHead1 = pHead1.next\n",
    "        else:\n",
    "            p.next = ListNode(pHead2.val)\n",
    "            pHead2 = pHead2.next\n",
    "        p = p.next\n",
    "    return res.next"
   ]
  },
  {
   "cell_type": "code",
   "execution_count": 11,
   "metadata": {},
   "outputs": [
    {
     "data": {
      "text/plain": [
       "<__main__.ListNode at 0x18d110167b8>"
      ]
     },
     "execution_count": 11,
     "metadata": {},
     "output_type": "execute_result"
    }
   ],
   "source": [
    "Merge(pHead1, pHead2)"
   ]
  },
  {
   "cell_type": "code",
   "execution_count": null,
   "metadata": {
    "collapsed": true
   },
   "outputs": [],
   "source": []
  }
 ],
 "metadata": {
  "kernelspec": {
   "display_name": "Python 3",
   "language": "python",
   "name": "python3"
  },
  "language_info": {
   "codemirror_mode": {
    "name": "ipython",
    "version": 3
   },
   "file_extension": ".py",
   "mimetype": "text/x-python",
   "name": "python",
   "nbconvert_exporter": "python",
   "pygments_lexer": "ipython3",
   "version": "3.6.2"
  }
 },
 "nbformat": 4,
 "nbformat_minor": 2
}
