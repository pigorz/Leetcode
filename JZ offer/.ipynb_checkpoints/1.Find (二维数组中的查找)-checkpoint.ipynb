{
 "cells": [
  {
   "cell_type": "code",
   "execution_count": 24,
   "metadata": {
    "collapsed": true
   },
   "outputs": [],
   "source": [
    "# 每行粗暴遍历，运行时间：237ms,占用内存：5864k\n",
    "array = [[1,2,3],[4,5,6],[7,8,9]]\n",
    "target = 2\n",
    "\n",
    "def Find(target,array):\n",
    "    for i in range(len(array)):\n",
    "        if target in array[i]:\n",
    "            return True\n",
    "    return False\n",
    "\n",
    "Find(target,array)"
   ]
  },
  {
   "cell_type": "code",
   "execution_count": 29,
   "metadata": {},
   "outputs": [
    {
     "data": {
      "text/plain": [
       "True"
      ]
     },
     "execution_count": 29,
     "metadata": {},
     "output_type": "execute_result"
    }
   ],
   "source": [
    "# 每个元素粗暴遍历,运行时间：215ms,占用内存：5732k\n",
    "array = [[1,2,3],[4,5,6],[7,8,9]]\n",
    "target = 2\n",
    "\n",
    "def Find(target,array):\n",
    "    for i in range(len(array)):\n",
    "        for j in range(len(array[i])):\n",
    "            if array[i][j] == target:\n",
    "                return True\n",
    "    return False\n",
    "\n",
    "Find(target,array)"
   ]
  },
  {
   "cell_type": "code",
   "execution_count": 6,
   "metadata": {},
   "outputs": [
    {
     "data": {
      "text/plain": [
       "True"
      ]
     },
     "execution_count": 6,
     "metadata": {},
     "output_type": "execute_result"
    }
   ],
   "source": [
    "# 对每行进行二分类搜索,运行时间：215ms，占用内存：5840k\n",
    "array = [[1,2,3,8],[2,3,5,10],[4,5,6,11]]\n",
    "target = 11\n",
    "\n",
    "def Find(target,array):\n",
    "    for i in range(len(array)):\n",
    "        left,right = 0,len(array[i])-1\n",
    "        while(left <= right):\n",
    "            mid = (left+right)//2\n",
    "            if target < array[i][mid]:\n",
    "                right = mid-1\n",
    "            elif array[i][mid] < target:\n",
    "                left = mid+1\n",
    "            else:\n",
    "                return True\n",
    "    return False\n",
    "\n",
    "Find(target,array)"
   ]
  },
  {
   "cell_type": "code",
   "execution_count": 8,
   "metadata": {},
   "outputs": [
    {
     "data": {
      "text/plain": [
       "True"
      ]
     },
     "execution_count": 8,
     "metadata": {},
     "output_type": "execute_result"
    }
   ],
   "source": [
    "# 改进二分类搜索,当right=mid时，可以不对下面所有行的right右边进行搜索。运行时间：222ms，占用内存：5740k\n",
    "array = [[1,2,3,8],[2,3,5,10],[4,5,6,11]]\n",
    "target = 11\n",
    "\n",
    "def Find(target,array):\n",
    "    right = len(array[0])-1\n",
    "    for i in range(len(array)):\n",
    "        left = 0\n",
    "        while(left <= right):\n",
    "            mid = (left+right)//2\n",
    "            if target < array[i][mid]:\n",
    "                right = mid-1\n",
    "            elif array[i][mid] < target:\n",
    "                left = mid+1\n",
    "            else:\n",
    "                return True\n",
    "    return False\n",
    "\n",
    "Find(target,array)"
   ]
  },
  {
   "cell_type": "code",
   "execution_count": 66,
   "metadata": {},
   "outputs": [
    {
     "data": {
      "text/plain": [
       "False"
      ]
     },
     "execution_count": 66,
     "metadata": {},
     "output_type": "execute_result"
    }
   ],
   "source": [
    "# 从右上角开始，若target大于x，向下走；若target小于x向左走。运行时间：215ms,占用内存：5768k\n",
    "array = [[1,2,3,8],[2,3,5,10],[4,5,6,11]]\n",
    "target = 12\n",
    "\n",
    "def Find(target,array):\n",
    "    i,j = 0,len(array[0])-1\n",
    "    while(i<len(array) and j > -1):\n",
    "        x = array[i][j]\n",
    "        if target > x:\n",
    "            i += 1\n",
    "        elif target < x:\n",
    "            j -= 1\n",
    "        else:\n",
    "            return True\n",
    "    return False\n",
    "\n",
    "Find(target,array)"
   ]
  }
 ],
 "metadata": {
  "kernelspec": {
   "display_name": "Python 3",
   "language": "python",
   "name": "python3"
  },
  "language_info": {
   "codemirror_mode": {
    "name": "ipython",
    "version": 3
   },
   "file_extension": ".py",
   "mimetype": "text/x-python",
   "name": "python",
   "nbconvert_exporter": "python",
   "pygments_lexer": "ipython3",
   "version": "3.6.2"
  }
 },
 "nbformat": 4,
 "nbformat_minor": 2
}
