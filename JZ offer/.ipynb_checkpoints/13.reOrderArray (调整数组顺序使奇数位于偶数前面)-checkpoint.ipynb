{
 "cells": [
  {
   "cell_type": "code",
   "execution_count": 1,
   "metadata": {},
   "outputs": [
    {
     "data": {
      "text/plain": [
       "[1, 3, 5, 2, 4, 6]"
      ]
     },
     "execution_count": 1,
     "metadata": {},
     "output_type": "execute_result"
    }
   ],
   "source": [
    "# 运行时间：25ms,占用内存：5860k\n",
    "def reOrderArray(array):\n",
    "    x,y = [],[]\n",
    "    for i in array:\n",
    "        if i%2 == 0:\n",
    "            x.append(i)\n",
    "        else:\n",
    "            y.append(i)\n",
    "    return y+x\n",
    "\n",
    "reOrderArray([1,2,3,4,5,6])"
   ]
  }
 ],
 "metadata": {
  "kernelspec": {
   "display_name": "Python 3",
   "language": "python",
   "name": "python3"
  },
  "language_info": {
   "codemirror_mode": {
    "name": "ipython",
    "version": 3
   },
   "file_extension": ".py",
   "mimetype": "text/x-python",
   "name": "python",
   "nbconvert_exporter": "python",
   "pygments_lexer": "ipython3",
   "version": "3.6.2"
  }
 },
 "nbformat": 4,
 "nbformat_minor": 2
}
