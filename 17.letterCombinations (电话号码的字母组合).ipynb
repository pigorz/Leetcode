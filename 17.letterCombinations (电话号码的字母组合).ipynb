{
 "cells": [
  {
   "cell_type": "code",
   "execution_count": 47,
   "metadata": {
    "collapsed": true
   },
   "outputs": [],
   "source": [
    "digits = '22'"
   ]
  },
  {
   "cell_type": "code",
   "execution_count": 50,
   "metadata": {},
   "outputs": [],
   "source": [
    "# 32 ms\n",
    "def letterCombinations(digits):\n",
    "    if digits == '':\n",
    "        return []\n",
    "    dic={}\n",
    "    for i in range(8):\n",
    "        if i == 5:\n",
    "            dic[i+2] = [chr(97+i*3),chr(98+i*3),chr(99+i*3),chr(100+i*3)]\n",
    "        elif i == 6:\n",
    "            dic[i+2] = [chr(98+i*3),chr(99+i*3),chr(100+i*3)]\n",
    "        elif i == 7:\n",
    "            dic[i+2] = [chr(98+i*3),chr(99+i*3),chr(100+i*3),chr(101+i*3)]\n",
    "        else:    \n",
    "            dic[i+2] = [chr(97+i*3),chr(98+i*3),chr(99+i*3)]\n",
    "\n",
    "    res = dic[int(digits[0])]\n",
    "    for s in digits[1:]:\n",
    "        a = []\n",
    "        for i in res:\n",
    "            for j in range(len(dic[int(s)])):\n",
    "                a.append(i+dic[int(s)][j])\n",
    "        res = a\n",
    "    return res"
   ]
  },
  {
   "cell_type": "code",
   "execution_count": 49,
   "metadata": {},
   "outputs": [
    {
     "data": {
      "text/plain": [
       "['aa', 'ab', 'ac', 'ba', 'bb', 'bc', 'ca', 'cb', 'cc']"
      ]
     },
     "execution_count": 49,
     "metadata": {},
     "output_type": "execute_result"
    }
   ],
   "source": [
    "letterCombinations(digits)"
   ]
  }
 ],
 "metadata": {
  "kernelspec": {
   "display_name": "Python 3",
   "language": "python",
   "name": "python3"
  },
  "language_info": {
   "codemirror_mode": {
    "name": "ipython",
    "version": 3
   },
   "file_extension": ".py",
   "mimetype": "text/x-python",
   "name": "python",
   "nbconvert_exporter": "python",
   "pygments_lexer": "ipython3",
   "version": "3.6.2"
  }
 },
 "nbformat": 4,
 "nbformat_minor": 2
}
