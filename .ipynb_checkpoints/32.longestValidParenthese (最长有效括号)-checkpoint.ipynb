{
 "cells": [
  {
   "cell_type": "code",
   "execution_count": 68,
   "metadata": {},
   "outputs": [],
   "source": [
    "# 执行用时 :44 ms, 在所有 Python3 提交中击败了91.81%的用户\n",
    "def longestValidParenthese(s):\n",
    "    ans = 0\n",
    "    if '(' not in s or ')' not in s:\n",
    "        return ans\n",
    "    \n",
    "    # 从左往右扫描\n",
    "    left,right = 0,0\n",
    "    for i in range(len(s)):\n",
    "        if s[i] == '(':\n",
    "            left += 1\n",
    "        elif s[i] == ')':\n",
    "            right += 1\n",
    "            if right == left:\n",
    "                ans = right if right > ans else ans\n",
    "            elif right > left:\n",
    "                left,right = 0,0\n",
    "    # 从右往左扫描\n",
    "    left,right = 0,0\n",
    "    for i in range(len(s)-1,0,-1):\n",
    "        if s[i] == ')':\n",
    "            left += 1\n",
    "        elif s[i] == '(':\n",
    "            right += 1\n",
    "            if right == left:\n",
    "                ans = right if right > ans else ans\n",
    "            elif right > left:\n",
    "                left,right = 0,0\n",
    "\n",
    "    return ans*2"
   ]
  },
  {
   "cell_type": "code",
   "execution_count": 69,
   "metadata": {},
   "outputs": [
    {
     "data": {
      "text/plain": [
       "2"
      ]
     },
     "execution_count": 69,
     "metadata": {},
     "output_type": "execute_result"
    }
   ],
   "source": [
    "s = \"(()\"\n",
    "longestValidParenthese(s)"
   ]
  },
  {
   "cell_type": "code",
   "execution_count": 70,
   "metadata": {},
   "outputs": [
    {
     "data": {
      "text/plain": [
       "2"
      ]
     },
     "execution_count": 70,
     "metadata": {},
     "output_type": "execute_result"
    }
   ],
   "source": [
    "s = \"()(()\"\n",
    "longestValidParenthese(s)"
   ]
  }
 ],
 "metadata": {
  "kernelspec": {
   "display_name": "Python 3",
   "language": "python",
   "name": "python3"
  },
  "language_info": {
   "codemirror_mode": {
    "name": "ipython",
    "version": 3
   },
   "file_extension": ".py",
   "mimetype": "text/x-python",
   "name": "python",
   "nbconvert_exporter": "python",
   "pygments_lexer": "ipython3",
   "version": "3.6.2"
  }
 },
 "nbformat": 4,
 "nbformat_minor": 2
}
